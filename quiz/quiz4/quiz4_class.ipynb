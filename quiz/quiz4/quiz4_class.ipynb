{
 "cells": [
  {
   "cell_type": "code",
   "execution_count": 1,
   "metadata": {},
   "outputs": [],
   "source": [
    "L = [[0,0,1,1,1,0,1],\n",
    "     [1,1,0,0,0,1,1],\n",
    "     [1,0,0,1,1,1,1]\n",
    "    ]"
   ]
  },
  {
   "cell_type": "code",
   "execution_count": 18,
   "metadata": {},
   "outputs": [],
   "source": [
    "# Does not need to be executed if ~/.ipython/profile_default/ipython_config.py\n",
    "# exists and contains get_config().InteractiveShell.ast_node_interactivity = 'all'\n",
    "\n",
    "from IPython.core.interactiveshell import InteractiveShell\n",
    "InteractiveShell.ast_node_interactivity = 'all'"
   ]
  },
  {
   "cell_type": "code",
   "execution_count": 19,
   "metadata": {},
   "outputs": [],
   "source": [
    "def longest_sequence_of_consecutives_is_in_a_row_v1(L):\n",
    "    return max(j2 -j1 +1\n",
    "            for i in range(len(L))\n",
    "               for j1 in range(len(L[i]))\n",
    "                   for j2 in range(j1,len(L[i]))\n",
    "                    if L[i][j1:j2 + 1] == [1] * (j2 - j1 +1 )\n",
    "            )"
   ]
  },
  {
   "cell_type": "code",
   "execution_count": 20,
   "metadata": {},
   "outputs": [
    {
     "data": {
      "text/plain": [
       "4"
      ]
     },
     "execution_count": 20,
     "metadata": {},
     "output_type": "execute_result"
    }
   ],
   "source": [
    "longest_sequence_of_consecutives_is_in_a_row_v1(L)"
   ]
  },
  {
   "cell_type": "code",
   "execution_count": 21,
   "metadata": {},
   "outputs": [
    {
     "data": {
      "text/plain": [
       "True"
      ]
     },
     "execution_count": 21,
     "metadata": {},
     "output_type": "execute_result"
    },
    {
     "data": {
      "text/plain": [
       "False"
      ]
     },
     "execution_count": 21,
     "metadata": {},
     "output_type": "execute_result"
    },
    {
     "data": {
      "text/plain": [
       "False"
      ]
     },
     "execution_count": 21,
     "metadata": {},
     "output_type": "execute_result"
    }
   ],
   "source": [
    "all([1,1,1,1])\n",
    "all([1,1,0,1])\n",
    "any([0,(),{},[]])"
   ]
  },
  {
   "cell_type": "code",
   "execution_count": 22,
   "metadata": {},
   "outputs": [],
   "source": [
    "def longest_sequence_of_consecutives_is_in_a_row_v2(L):\n",
    "    return max(j2 -j1 +1\n",
    "            for i in range(len(L))\n",
    "               for j1 in range(len(L[i]))\n",
    "                   for j2 in range(j1,len(L[i]))\n",
    "                    if all(L[i][j1:j2 + 1])\n",
    "            )"
   ]
  },
  {
   "cell_type": "code",
   "execution_count": 6,
   "metadata": {},
   "outputs": [
    {
     "data": {
      "text/plain": [
       "4"
      ]
     },
     "execution_count": 6,
     "metadata": {},
     "output_type": "execute_result"
    }
   ],
   "source": [
    "longest_sequence_of_consecutives_is_in_a_row_v2(L)"
   ]
  },
  {
   "cell_type": "code",
   "execution_count": 7,
   "metadata": {},
   "outputs": [],
   "source": [
    "def longest_sequence_of_consecutives_is_in_a_row_v3(L):\n",
    "    longest_run_of_ls = 0\n",
    "    for row in L:\n",
    "        j = 0\n",
    "        current_run_of_ls = 0\n",
    "        while j < len(row):\n",
    "            if not row[j]:\n",
    "                longest_run_of_ls = max(current_run_of_ls, longest_run_of_ls)\n",
    "                current_run_of_ls = 0\n",
    "                j += 1\n",
    "                continue\n",
    "            else:\n",
    "                current_run_of_ls += 1\n",
    "            j += 1\n",
    "        longest_run_of_ls = max(current_run_of_ls, longest_run_of_ls)\n",
    "    return longest_run_of_ls"
   ]
  },
  {
   "cell_type": "code",
   "execution_count": 8,
   "metadata": {},
   "outputs": [
    {
     "data": {
      "text/plain": [
       "4"
      ]
     },
     "execution_count": 8,
     "metadata": {},
     "output_type": "execute_result"
    }
   ],
   "source": [
    "longest_sequence_of_consecutives_is_in_a_row_v3(L)"
   ]
  },
  {
   "cell_type": "code",
   "execution_count": 9,
   "metadata": {},
   "outputs": [],
   "source": [
    "def longest_sequence_of_consecutives_is_in_a_row_v4(L):\n",
    "    longest_run_of_ls = 0\n",
    "    for row in L:\n",
    "        current_run_of_ls = 0\n",
    "        for e in row:\n",
    "            if not e:\n",
    "                longest_run_of_ls = max(current_run_of_ls, longest_run_of_ls)\n",
    "                current_run_of_ls = 0\n",
    "                continue\n",
    "            else:\n",
    "                current_run_of_ls += 1\n",
    "        longest_run_of_ls = max(current_run_of_ls, longest_run_of_ls)\n",
    "    return longest_run_of_ls"
   ]
  },
  {
   "cell_type": "code",
   "execution_count": 10,
   "metadata": {},
   "outputs": [
    {
     "data": {
      "text/plain": [
       "4"
      ]
     },
     "execution_count": 10,
     "metadata": {},
     "output_type": "execute_result"
    }
   ],
   "source": [
    "longest_sequence_of_consecutives_is_in_a_row_v4(L)"
   ]
  },
  {
   "cell_type": "code",
   "execution_count": 11,
   "metadata": {},
   "outputs": [],
   "source": [
    "def longest_sequence_of_consecutives_is_in_a_column_v1(L):\n",
    "    return longest_sequence_of_consecutives_is_in_a_row_v4(zip(*L))"
   ]
  },
  {
   "cell_type": "code",
   "execution_count": 12,
   "metadata": {},
   "outputs": [
    {
     "data": {
      "text/plain": [
       "3"
      ]
     },
     "execution_count": 12,
     "metadata": {},
     "output_type": "execute_result"
    }
   ],
   "source": [
    "longest_sequence_of_consecutives_is_in_a_column_v1(L)"
   ]
  },
  {
   "cell_type": "code",
   "execution_count": 13,
   "metadata": {},
   "outputs": [],
   "source": [
    "def longest_sequence_of_consecutives_is_in_a_column_v2(L):\n",
    "    longest_run_of_ls = 0\n",
    "    for j in range(len(L[0])):\n",
    "        current_run_of_ls = 0\n",
    "        for i in range(len(L)):\n",
    "            if not L[i][j]:\n",
    "                longest_run_of_ls = max(current_run_of_ls, longest_run_of_ls)\n",
    "                current_run_of_ls = 0\n",
    "                continue\n",
    "            else:\n",
    "                current_run_of_ls += 1\n",
    "        longest_run_of_ls = max(current_run_of_ls, longest_run_of_ls)\n",
    "    return longest_run_of_ls"
   ]
  },
  {
   "cell_type": "code",
   "execution_count": 14,
   "metadata": {},
   "outputs": [
    {
     "data": {
      "text/plain": [
       "3"
      ]
     },
     "execution_count": 14,
     "metadata": {},
     "output_type": "execute_result"
    }
   ],
   "source": [
    "longest_sequence_of_consecutives_is_in_a_column_v2(L)"
   ]
  },
  {
   "cell_type": "code",
   "execution_count": 15,
   "metadata": {},
   "outputs": [
    {
     "data": {
      "text/plain": [
       "[(1, 4, 7), (2, 5, 8), (3, 6, 9)]"
      ]
     },
     "execution_count": 15,
     "metadata": {},
     "output_type": "execute_result"
    }
   ],
   "source": [
    "A=[[1,2,3],\n",
    "   [4,5,6],\n",
    "   [7,8,9],\n",
    "  ]\n",
    "list(zip(*A))"
   ]
  },
  {
   "cell_type": "code",
   "execution_count": null,
   "metadata": {},
   "outputs": [],
   "source": []
  },
  {
   "cell_type": "code",
   "execution_count": null,
   "metadata": {},
   "outputs": [],
   "source": []
  },
  {
   "cell_type": "code",
   "execution_count": null,
   "metadata": {},
   "outputs": [],
   "source": []
  }
 ],
 "metadata": {
  "kernelspec": {
   "display_name": "Python 3",
   "language": "python",
   "name": "python3"
  },
  "language_info": {
   "codemirror_mode": {
    "name": "ipython",
    "version": 3
   },
   "file_extension": ".py",
   "mimetype": "text/x-python",
   "name": "python",
   "nbconvert_exporter": "python",
   "pygments_lexer": "ipython3",
   "version": "3.6.5"
  }
 },
 "nbformat": 4,
 "nbformat_minor": 2
}
