{
 "cells": [
  {
   "cell_type": "code",
   "execution_count": 88,
   "metadata": {},
   "outputs": [
    {
     "name": "stdout",
     "output_type": "stream",
     "text": [
      "Enter two integers, the second one being strictly positive: 2 3\n",
      "Here is the grid that has been generated:\n",
      "     0 0 0 1 0 1 1 1 1 1\n",
      "     0 1 0 1 1 0 1 1 1 1\n",
      "     1 1 1 1 1 1 0 0 1 1\n",
      "     1 1 1 1 0 1 0 0 0 0\n",
      "     0 1 0 0 1 1 1 1 1 1\n",
      "     0 1 1 1 1 1 1 1 1 1\n",
      "     0 1 1 1 1 1 1 0 1 1\n",
      "     1 1 1 1 1 1 1 1 1 1\n",
      "     1 1 1 1 1 0 1 1 0 1\n",
      "     1 1 1 1 1 1 1 1 1 1\n",
      "\n",
      "The largest block construction has 5 blocks.\n",
      "1\n",
      "4\n",
      "[[False, False, False, True, False, True, True, True, True, True], [False, True, False, True, True, False, True, True, True, True], [True, True, True, True, True, True, False, False, True, True], [True, True, True, True, False, True, False, False, False, False], [False, True, False, False, True, True, True, True, True, True], [False, True, True, True, True, True, True, True, True, True], [False, True, True, True, True, True, True, False, True, True], [True, True, True, True, True, True, True, True, True, True], [True, True, True, True, True, False, True, True, False, True], [True, True, True, True, True, True, True, True, True, True]]\n"
     ]
    }
   ],
   "source": [
    "# Randomly fills an array of size 10x10 with True and False, and outputs the number of blocks\n",
    "# in the largest block construction, determined by rows of True's that can be stacked\n",
    "# on top of each other. \n",
    "#\n",
    "# Written by *** and Eric Martin for COMP9021\n",
    "\n",
    "\n",
    "from random import seed, randrange\n",
    "import sys\n",
    "\n",
    "\n",
    "dim = 10\n",
    "\n",
    "\n",
    "def display_grid():\n",
    "    for i in range(dim):\n",
    "        print('     ', end = '')\n",
    "        print(' '.join(f'{int(e)}' for e in grid[i]))\n",
    "    print()\n",
    "\n",
    "\n",
    "\n",
    "\n",
    "def size_of_largest_construction():\n",
    "    i = dim - 1\n",
    "    all_size = []\n",
    "    while i >= 0:\n",
    "        for j1 in range(len(L[i])):\n",
    "            for j2 in range(j1,len(L[i])):\n",
    "                if construction_size(i,j1,j2) == 0:\n",
    "                    break\n",
    "                else:\n",
    "                    bottom_sum = construction_size(i,j1,j2)\n",
    "                    for j in range(j1,j2+1):\n",
    "                        j_i = i - 1\n",
    "                        sum = 0\n",
    "                        while j_i >= 0:\n",
    "                            if L[j_i][j] == True:\n",
    "                                sum += 1\n",
    "                                j_i -= 1\n",
    "                            else:\n",
    "                                break\n",
    "                        bottom_sum += sum\n",
    "                    all_size.append(bottom_sum)\n",
    "                    \n",
    "        i -= 1\n",
    "    return max(all_size)\n",
    "\n",
    "# If j1 <= j2 and the grid has a 1 at the intersection of row i and column j\n",
    "# for all j in {j1, ..., j2}, then returns the number of blocks in the construction\n",
    "# built over this line of blocks.\n",
    "def construction_size(i, j1, j2):\n",
    "    if all(grid[i][j1:j2 + 1]):\n",
    "        return j2 - j1 + 1\n",
    "    else:\n",
    "        return 0\n",
    "      \n",
    "\n",
    "            \n",
    "try:\n",
    "    for_seed, n = input('Enter two integers, the second one being strictly positive: ').split()\n",
    "    for_seed = int(for_seed)\n",
    "    n = int(n)\n",
    "    if n <= 0:\n",
    "        raise ValueError\n",
    "except ValueError:\n",
    "    print('Incorrect input, giving up.')\n",
    "    sys.exit()\n",
    "\n",
    "seed(for_seed)\n",
    "grid = [[bool(randrange(n)) for _ in range(dim)] for _ in range(dim)]\n",
    "print('Here is the grid that has been generated:')\n",
    "display_grid()\n",
    "size = size_of_largest_construction()\n",
    "if not size:\n",
    "    print(f'The largest block construction has no block.')  \n",
    "elif size == 1:\n",
    "    print(f'The largest block construction has 1 block.')  \n",
    "else:\n",
    "    print(f'The largest block construction has {size_of_largest_construction()} blocks.')  \n",
    "# grid_L = []\n",
    "# for i in range(dim):\n",
    "#     for e in grid[i]:\n",
    "#         grid_L.append(int(e))\n",
    "print(int(grid[0][3]))\n",
    "print(construction_size(3,0,3))\n",
    "print(grid)"
   ]
  },
  {
   "cell_type": "markdown",
   "metadata": {},
   "source": [
    "## True + True"
   ]
  },
  {
   "cell_type": "code",
   "execution_count": 39,
   "metadata": {},
   "outputs": [],
   "source": [
    "L=[[False, False, False, True, False, True, True, True, True, True], [False, True, False, True, True, False, True, True, True, True], [True, True, True, True, True, True, False, False, True, True], [True, True, True, True, False, True, False, False, False, False], [False, True, False, False, True, True, True, True, True, True], [False, True, True, True, True, True, True, True, True, True], [False, True, True, True, True, True, True, False, True, True], [True, True, True, True, True, True, True, True, True, True], [True, True, True, True, True, False, True, True, False, True], [True, True, True, True, True, True, True, True, True, True]]"
   ]
  },
  {
   "cell_type": "code",
   "execution_count": 83,
   "metadata": {},
   "outputs": [],
   "source": [
    "L = [[0,0,1],\n",
    "     [1,1,0],\n",
    "     [1,1,1]\n",
    "    ]"
   ]
  },
  {
   "cell_type": "code",
   "execution_count": 86,
   "metadata": {},
   "outputs": [
    {
     "data": {
      "text/plain": [
       "5"
      ]
     },
     "execution_count": 86,
     "metadata": {},
     "output_type": "execute_result"
    }
   ],
   "source": [
    "def size_of_largest_construction(L):\n",
    "    i = 3 - 1\n",
    "    all_size = []\n",
    "    while i >= 0:\n",
    "        for j1 in range(len(L[i])):\n",
    "            for j2 in range(j1,len(L[i])):\n",
    "                if construction_size(i,j1,j2) == 0:\n",
    "                    break\n",
    "                else:\n",
    "                    bottom_sum = construction_size(i,j1,j2)\n",
    "                    for j in range(j1,j2+1):\n",
    "                        j_i = i - 1\n",
    "                        sum = 0\n",
    "                        while j_i >= 0:\n",
    "                            if L[j_i][j] == True:\n",
    "                                sum += 1\n",
    "                                j_i -= 1\n",
    "                            else:\n",
    "                                break\n",
    "                        bottom_sum += sum\n",
    "                    all_size.append(bottom_sum)\n",
    "                    \n",
    "        i -= 1\n",
    "    return max(all_size)\n",
    "size_of_largest_construction(L)"
   ]
  },
  {
   "cell_type": "code",
   "execution_count": null,
   "metadata": {},
   "outputs": [],
   "source": []
  },
  {
   "cell_type": "code",
   "execution_count": null,
   "metadata": {},
   "outputs": [],
   "source": []
  },
  {
   "cell_type": "code",
   "execution_count": 72,
   "metadata": {},
   "outputs": [
    {
     "name": "stdout",
     "output_type": "stream",
     "text": [
      "1\n"
     ]
    }
   ],
   "source": [
    "L = [1,0,1,0]\n",
    "for i in range(0,4):\n",
    "    if L[i] == 1:\n",
    "        print(1) \n",
    "    else:\n",
    "        break\n"
   ]
  },
  {
   "cell_type": "code",
   "execution_count": null,
   "metadata": {},
   "outputs": [],
   "source": []
  }
 ],
 "metadata": {
  "kernelspec": {
   "display_name": "Python 3",
   "language": "python",
   "name": "python3"
  },
  "language_info": {
   "codemirror_mode": {
    "name": "ipython",
    "version": 3
   },
   "file_extension": ".py",
   "mimetype": "text/x-python",
   "name": "python",
   "nbconvert_exporter": "python",
   "pygments_lexer": "ipython3",
   "version": "3.6.5"
  }
 },
 "nbformat": 4,
 "nbformat_minor": 2
}
