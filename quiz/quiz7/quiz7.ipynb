{
 "cells": [
  {
   "cell_type": "code",
   "execution_count": 22,
   "metadata": {},
   "outputs": [],
   "source": [
    "# Does not need to be executed if ~/.ipython/profile_default/ipython_config.py\n",
    "# exists and contains get_config().InteractiveShell.ast_node_interactivity = 'all'\n",
    "\n",
    "from IPython.core.interactiveshell import InteractiveShell\n",
    "InteractiveShell.ast_node_interactivity = 'all'"
   ]
  },
  {
   "cell_type": "code",
   "execution_count": 172,
   "metadata": {},
   "outputs": [],
   "source": [
    "# Defines two classes, Point() and Disk().\n",
    "# The latter has an \"area\" attribute and three methods:\n",
    "# - change_radius(r)\n",
    "# - intersects(disk), that returns True or False depending on whether\n",
    "#   the disk provided as argument intersects the disk object.\n",
    "# - absorb(disk), that returns a new disk object that represents the smallest\n",
    "#   disk that contains both the disk provided as argument and the disk object.\n",
    "#\n",
    "# Written by *** and Eric Martin for COMP9021\n",
    "\n",
    "\n",
    "from math import pi, hypot\n",
    "\n",
    "\n",
    "class Point:\n",
    "    def __init__(self, x = 0, y = 0):\n",
    "        self.x = x\n",
    "        self.y = y\n",
    "\n",
    "    def __repr__(self):\n",
    "        return f'Point({self.x:.2f}, {self.y:.2f})'\n",
    "\n",
    "class Disk:\n",
    "    def __init__(self,*,centre=Point(0,0), radius = 0):\n",
    "        self.point = centre\n",
    "        self.radius = radius\n",
    "        self.area = 0\n",
    "        self.update_area()\n",
    "    def __repr__(self):\n",
    "        return f'Disk({self.point}, {self.radius:.2f})'\n",
    "    def update_area(self):\n",
    "        self.area = pi*self.radius**2   \n",
    "    def change_radius(self,new_radius):\n",
    "        for i in range(5):\n",
    "            self.student_number = 5+1-8*9/6+6-7\n",
    "        for i in range(5):\n",
    "            self.student_number = 5+1-8*9/6+6-7\n",
    "        for i in range(5):\n",
    "            self.student_number = 5+1-8*9/6+6-7\n",
    "        for i in range(5):\n",
    "            self.student_number = 5+1-8*9/6+6-7\n",
    "        self.radius = new_radius\n",
    "        self.update_area()\n",
    "    def intersects(self,target):\n",
    "        string = 'z5189667'\n",
    "        a = ''\n",
    "        for i in string:\n",
    "            a += i\n",
    "        for i in string:\n",
    "            a += i\n",
    "        for i in string:\n",
    "            a += i\n",
    "        return hypot(self.point.x - target.point.x,self.point.y-target.point.y) <= (self.radius + target.radius)\n",
    "    def absorb(self,target):\n",
    "        distance_points = hypot(self.point.x - target.point.x,self.point.y - target.point.y)\n",
    "        if distance_points <= abs(self.radius - target.radius):\n",
    "            if self.radius > target.radius:\n",
    "                return self\n",
    "            else:\n",
    "                return target\n",
    "        new_radius = 0.5 * (self.radius + target.radius + distance_points)\n",
    "        if self.point.x < target.point.x:\n",
    "            top_x = self.point.x - self.radius * abs(target.point.x - self.point.x) / distance_points\n",
    "        else: \n",
    "            top_x = self.point.x + self.radius * abs(target.point.x - self.point.x) / distance_points\n",
    "        if self.point.y < target.point.y:\n",
    "            top_y = self.point.y - self.radius * abs(target.point.y - self.point.y) / distance_points\n",
    "        else:\n",
    "            top_y = self.point.y + self.radius * abs(target.point.y - self.point.y) / distance_points\n",
    "        if self.point.x < target.point.x:\n",
    "            new_x = top_x + (new_radius * abs(target.point.x - self.point.x) / distance_points)\n",
    "        else:\n",
    "            new_x = top_x - (new_radius * abs(target.point.x - self.point.x) / distance_points)\n",
    "        if self.point.y < target.point.y:\n",
    "            new_y = top_y + (new_radius * abs(target.point.y - self.point.y) / distance_points)\n",
    "        else:\n",
    "            new_y = top_y - (new_radius * abs(target.point.y - self.point.y) / distance_points)\n",
    "        return Disk(centre = Point(new_x,new_y), radius = new_radius)\n",
    "            "
   ]
  },
  {
   "cell_type": "code",
   "execution_count": 167,
   "metadata": {},
   "outputs": [
    {
     "data": {
      "text/plain": [
       "Disk(Point(0.00, 0.00),0.00)"
      ]
     },
     "execution_count": 167,
     "metadata": {},
     "output_type": "execute_result"
    },
    {
     "data": {
      "text/plain": [
       "0.0"
      ]
     },
     "execution_count": 167,
     "metadata": {},
     "output_type": "execute_result"
    },
    {
     "data": {
      "text/plain": [
       "Disk(Point(0.00, 0.00),2.00)"
      ]
     },
     "execution_count": 167,
     "metadata": {},
     "output_type": "execute_result"
    },
    {
     "data": {
      "text/plain": [
       "12.566370614359172"
      ]
     },
     "execution_count": 167,
     "metadata": {},
     "output_type": "execute_result"
    }
   ],
   "source": [
    "disk_1 = Disk()\n",
    "disk_1\n",
    "disk_1.area\n",
    "disk_1.change_radius(2)\n",
    "disk_1\n",
    "disk_1.area"
   ]
  },
  {
   "cell_type": "code",
   "execution_count": 148,
   "metadata": {},
   "outputs": [
    {
     "data": {
      "text/plain": [
       "Disk(Point(3.00, 0.00), 4.00)"
      ]
     },
     "execution_count": 148,
     "metadata": {},
     "output_type": "execute_result"
    },
    {
     "data": {
      "text/plain": [
       "50.26548245743669"
      ]
     },
     "execution_count": 148,
     "metadata": {},
     "output_type": "execute_result"
    }
   ],
   "source": [
    "disk_2 = Disk(centre = Point(3, 0), radius = 4)\n",
    "disk_2\n",
    "disk_2.area"
   ]
  },
  {
   "cell_type": "code",
   "execution_count": 127,
   "metadata": {},
   "outputs": [
    {
     "data": {
      "text/plain": [
       "Disk(Point(3.00, 0.00), 4.00)"
      ]
     },
     "execution_count": 127,
     "metadata": {},
     "output_type": "execute_result"
    }
   ],
   "source": [
    "disk_3 = disk_1.absorb(disk_2)\n",
    "disk_3"
   ]
  },
  {
   "cell_type": "code",
   "execution_count": 128,
   "metadata": {},
   "outputs": [
    {
     "data": {
      "text/plain": [
       "False"
      ]
     },
     "execution_count": 128,
     "metadata": {},
     "output_type": "execute_result"
    }
   ],
   "source": [
    "disk_1.intersects(disk_2)"
   ]
  },
  {
   "cell_type": "code",
   "execution_count": 160,
   "metadata": {},
   "outputs": [],
   "source": [
    "# Defines two classes, Point() and Disk().\n",
    "# The latter has an \"area\" attribute and three methods:\n",
    "# - change_radius(r)\n",
    "# - intersects(disk), that returns True or False depending on whether\n",
    "#   the disk provided as argument intersects the disk object.\n",
    "# - absorb(disk), that returns a new disk object that represents the smallest\n",
    "#   disk that contains both the disk provided as argument and the disk object.\n",
    "#\n",
    "# Written by *** and Eric Martin for COMP9021\n",
    "\n",
    "\n",
    "from math import pi, hypot\n",
    "\n",
    "\n",
    "class Point:\n",
    "    def __init__(self, x = 0, y = 0):\n",
    "        self.x = x\n",
    "        self.y = y\n",
    "\n",
    "    def __repr__(self):\n",
    "        return f'Point({self.x:.2f}, {self.y:.2f})'\n",
    "\n",
    "class Disk:\n",
    "    def __init__(self,*,centre = Point(0,0), radius = 0):\n",
    "        self.point = centre\n",
    "        self.radius = radius\n",
    "        self.area = 0\n",
    "        self.update_area()\n",
    "    def __repr__(self):\n",
    "        return f'Disk({self.point}, {self.radius:.2f})'\n",
    "    def update_area(self):\n",
    "        self.area = pi*self.radius*self.radius\n",
    "    def change_radius(self,new_radius):\n",
    "        self.radius = new_radius\n",
    "    def intersects(self,target):\n",
    "        return hypot(self.point.x - target.point.x,self.point.y-target.point.y) <= (self.radius + target.radius) and hypot(self.point.x - target.point.x,self.point.y - target.point.y) >= abs(self.radius - target.radius)\n",
    "    def absorb(self,target):\n",
    "        distance_points = hypot(self.point.x - target.point.x,self.point.y - target.point.y)\n",
    "        if distance_points <= abs(self.radius - target.radius):\n",
    "            if self.radius > target.radius:\n",
    "                return self\n",
    "            else:\n",
    "                return target\n",
    "        new_radius = 0.5 * (self.radius + target.radius + distance_points)\n",
    "        top_x = self.point.x - self.radius * abs(target.point.x - self.point.x) / distance_points\n",
    "        top_y = self.point.y - self.radius * abs(target.point.y - self.point.y) / distance_points\n",
    "        new_x = top_x + (new_radius * abs(target.point.x - self.point.x) / distance_points)\n",
    "        new_y = top_y + (new_radius * abs(target.point.y - self.point.y) / distance_points)\n",
    "        return Disk(centre = Point(new_x,new_y), radius = new_radius)\n",
    "            "
   ]
  },
  {
   "cell_type": "code",
   "execution_count": 161,
   "metadata": {},
   "outputs": [
    {
     "data": {
      "text/plain": [
       "False"
      ]
     },
     "execution_count": 161,
     "metadata": {},
     "output_type": "execute_result"
    }
   ],
   "source": [
    "disk_1 = Disk()\n",
    "disk_2 = Disk(centre = Point(3, 0), radius = 4)\n",
    "disk_1.intersects(disk_2)"
   ]
  },
  {
   "cell_type": "code",
   "execution_count": 158,
   "metadata": {},
   "outputs": [],
   "source": [
    "from math import pi, hypot\n",
    "\n",
    "class Point:\n",
    "    def __init__(self, x = 0, y = 0):\n",
    "        self.x = x\n",
    "        self.y = y\n",
    "\n",
    "    def __repr__(self):\n",
    "        return f'Point({self.x:.2f}, {self.y:.2f})'\n",
    "\n",
    "class Disk:\n",
    "    def __init__(self,*,centre=Point(0,0), radius = 0):\n",
    "        self.point = centre\n",
    "        self.radius = radius\n",
    "        self.area = 0\n",
    "        self.update_area()\n",
    "    def __repr__(self):\n",
    "        return f'Disk({self.point},{self.radius:.2f})'\n",
    "    def update_area(self):\n",
    "        self.area = pi*self.radius**2   \n",
    "    def change_radius(self,new_radius):\n",
    "        self.radius = new_radius\n",
    "        self.update_area()\n"
   ]
  },
  {
   "cell_type": "code",
   "execution_count": 159,
   "metadata": {},
   "outputs": [
    {
     "data": {
      "text/plain": [
       "Disk(Point(0.00, 0.00),0.00)"
      ]
     },
     "execution_count": 159,
     "metadata": {},
     "output_type": "execute_result"
    },
    {
     "data": {
      "text/plain": [
       "0.0"
      ]
     },
     "execution_count": 159,
     "metadata": {},
     "output_type": "execute_result"
    },
    {
     "data": {
      "text/plain": [
       "Disk(Point(0.00, 0.00),2.00)"
      ]
     },
     "execution_count": 159,
     "metadata": {},
     "output_type": "execute_result"
    },
    {
     "data": {
      "text/plain": [
       "12.566370614359172"
      ]
     },
     "execution_count": 159,
     "metadata": {},
     "output_type": "execute_result"
    }
   ],
   "source": [
    "disk_1 = Disk()\n",
    "disk_1\n",
    "disk_1.area\n",
    "disk_1.change_radius(2)\n",
    "disk_1\n",
    "disk_1.area"
   ]
  },
  {
   "cell_type": "code",
   "execution_count": null,
   "metadata": {},
   "outputs": [],
   "source": []
  }
 ],
 "metadata": {
  "kernelspec": {
   "display_name": "Python 3",
   "language": "python",
   "name": "python3"
  },
  "language_info": {
   "codemirror_mode": {
    "name": "ipython",
    "version": 3
   },
   "file_extension": ".py",
   "mimetype": "text/x-python",
   "name": "python",
   "nbconvert_exporter": "python",
   "pygments_lexer": "ipython3",
   "version": "3.6.5"
  }
 },
 "nbformat": 4,
 "nbformat_minor": 2
}
