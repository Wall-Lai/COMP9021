{
 "cells": [
  {
   "cell_type": "code",
   "execution_count": 3,
   "metadata": {},
   "outputs": [],
   "source": [
    "import os \n",
    "import sys\n",
    "import csv\n",
    "from pathlib import Path\n",
    "from collections import defaultdict"
   ]
  },
  {
   "cell_type": "code",
   "execution_count": 19,
   "metadata": {},
   "outputs": [
    {
     "name": "stdout",
     "output_type": "stream",
     "text": [
      "['Source', 'Date', 'Mean']\n"
     ]
    }
   ],
   "source": [
    "import csv\n",
    "with open('monthly_csv.csv') as f:\n",
    "    f_csv = csv.reader(f)\n",
    "    headers = next(f_csv)\n",
    "#     for row in f_csv:\n",
    "print(headers)"
   ]
  },
  {
   "cell_type": "code",
   "execution_count": 29,
   "metadata": {},
   "outputs": [
    {
     "ename": "TypeError",
     "evalue": "append() takes exactly one argument (0 given)",
     "output_type": "error",
     "traceback": [
      "\u001b[0;31m---------------------------------------------------------------------------\u001b[0m",
      "\u001b[0;31mTypeError\u001b[0m                                 Traceback (most recent call last)",
      "\u001b[0;32m<ipython-input-29-4d090c52b23f>\u001b[0m in \u001b[0;36m<module>\u001b[0;34m()\u001b[0m\n\u001b[1;32m      5\u001b[0m     \u001b[0;32mfor\u001b[0m \u001b[0mline\u001b[0m \u001b[0;32min\u001b[0m \u001b[0mname_file\u001b[0m\u001b[0;34m:\u001b[0m\u001b[0;34m\u001b[0m\u001b[0m\n\u001b[1;32m      6\u001b[0m         \u001b[0mSource\u001b[0m\u001b[0;34m,\u001b[0m \u001b[0mDate\u001b[0m\u001b[0;34m,\u001b[0m \u001b[0mMean\u001b[0m \u001b[0;34m=\u001b[0m \u001b[0mline\u001b[0m\u001b[0;34m.\u001b[0m\u001b[0msplit\u001b[0m\u001b[0;34m(\u001b[0m\u001b[0;34m','\u001b[0m\u001b[0;34m)\u001b[0m\u001b[0;34m\u001b[0m\u001b[0m\n\u001b[0;32m----> 7\u001b[0;31m         \u001b[0myears_per_name\u001b[0m\u001b[0;34m[\u001b[0m\u001b[0mSource\u001b[0m\u001b[0;34m]\u001b[0m\u001b[0;34m.\u001b[0m\u001b[0mappend\u001b[0m\u001b[0;34m(\u001b[0m\u001b[0;34m)\u001b[0m\u001b[0;34m\u001b[0m\u001b[0m\n\u001b[0m\u001b[1;32m      8\u001b[0m \u001b[0mprint\u001b[0m\u001b[0;34m(\u001b[0m\u001b[0myears_per_name\u001b[0m\u001b[0;34m)\u001b[0m\u001b[0;34m\u001b[0m\u001b[0m\n",
      "\u001b[0;31mTypeError\u001b[0m: append() takes exactly one argument (0 given)"
     ]
    }
   ],
   "source": [
    "import csv\n",
    "\n",
    "years_per_name = defaultdict(list)\n",
    "with open('monthly_csv.csv') as name_file:\n",
    "    for line in name_file:\n",
    "        Source, Date, Mean = line.split(',')\n",
    "        years_per_name[Source].append()\n",
    "print(years_per_name)"
   ]
  },
  {
   "cell_type": "code",
   "execution_count": 34,
   "metadata": {},
   "outputs": [
    {
     "name": "stdout",
     "output_type": "stream",
     "text": [
      "out0= <class 'numpy.ndarray'> (2809, 3)\n",
      "out1= [['Source' 'Date' 'Mean']\n",
      " ['GCAG' '2016/12/6' '0.7895']\n",
      " ['GISTEMP' '2016/12/6' '0.81']\n",
      " ...\n",
      " ['' '' '']\n",
      " ['' '' '']\n",
      " ['' '' '']]\n"
     ]
    }
   ],
   "source": [
    "import csv\n",
    "import numpy as np\n",
    "with open('monthly_csv.csv','r') as csvfile:\n",
    "    reader = csv.reader(csvfile)\n",
    "    rows= [row for row in reader]\n",
    "# print (rows)#输出所有数据\n",
    "data=np.array(rows)#rows是数据类型是‘list',转化为数组类型好处理\n",
    "print(\"out0=\",type(data),data.shape)\n",
    "print(\"out1=\",data)"
   ]
  },
  {
   "cell_type": "code",
   "execution_count": 56,
   "metadata": {},
   "outputs": [
    {
     "ename": "AttributeError",
     "evalue": "'list' object has no attribute 'split'",
     "output_type": "error",
     "traceback": [
      "\u001b[0;31m---------------------------------------------------------------------------\u001b[0m",
      "\u001b[0;31mAttributeError\u001b[0m                            Traceback (most recent call last)",
      "\u001b[0;32m<ipython-input-56-93a6921ff6e2>\u001b[0m in \u001b[0;36m<module>\u001b[0;34m()\u001b[0m\n\u001b[1;32m      7\u001b[0m     \u001b[0;32mfor\u001b[0m \u001b[0mrow\u001b[0m \u001b[0;32min\u001b[0m \u001b[0mreader\u001b[0m\u001b[0;34m:\u001b[0m\u001b[0;34m\u001b[0m\u001b[0m\n\u001b[1;32m      8\u001b[0m         \u001b[0;31m# 行号从1开始\u001b[0m\u001b[0;34m\u001b[0m\u001b[0;34m\u001b[0m\u001b[0m\n\u001b[0;32m----> 9\u001b[0;31m         \u001b[0mSource\u001b[0m\u001b[0;34m,\u001b[0m \u001b[0mDate\u001b[0m\u001b[0;34m,\u001b[0m \u001b[0mMean\u001b[0m \u001b[0;34m=\u001b[0m \u001b[0mrow\u001b[0m\u001b[0;34m.\u001b[0m\u001b[0msplit\u001b[0m\u001b[0;34m(\u001b[0m\u001b[0;34m','\u001b[0m\u001b[0;34m)\u001b[0m\u001b[0;34m\u001b[0m\u001b[0m\n\u001b[0m\u001b[1;32m     10\u001b[0m         \u001b[0mprint\u001b[0m\u001b[0;34m(\u001b[0m\u001b[0mreader\u001b[0m\u001b[0;34m.\u001b[0m\u001b[0mline_num\u001b[0m\u001b[0;34m,\u001b[0m \u001b[0mrow\u001b[0m\u001b[0;34m)\u001b[0m\u001b[0;34m\u001b[0m\u001b[0m\n",
      "\u001b[0;31mAttributeError\u001b[0m: 'list' object has no attribute 'split'"
     ]
    }
   ],
   "source": [
    "import csv\n",
    "\n",
    "filename = 'monthly_csv.csv'\n",
    "with open(filename) as f:\n",
    "    reader = csv.reader(f)\n",
    "    head_row = next(reader)\n",
    "    for row in reader:\n",
    "        # 行号从1开始\n",
    "        Source, Date, Mean = row.split(',')\n",
    "        print(reader.line_num, row)"
   ]
  },
  {
   "cell_type": "code",
   "execution_count": 79,
   "metadata": {},
   "outputs": [
    {
     "name": "stdout",
     "output_type": "stream",
     "text": [
      "Enter the source (GCAG or GISTEMP): GCAG\n",
      "Enter a year or a range of years in the form XXXX -- XXXX: 2016\n",
      "Enter a month: june\n",
      "[[2016, 0.9006]]\n",
      "The average anomaly for june in this range of years is: 0.90.\n",
      "The list of years when the temperature anomaly was above average is:\n",
      "[]\n"
     ]
    }
   ],
   "source": [
    "\n",
    "import sys\n",
    "import os\n",
    "import csv\n",
    "\n",
    "\n",
    "filename = 'monthly_csv01.csv'\n",
    "if not os.path.exists(filename):\n",
    "    print(f'There is no file named {filename} in the working directory, giving up...')\n",
    "    sys.exit()\n",
    "\n",
    "source = input('Enter the source (GCAG or GISTEMP): ')\n",
    "year_or_range_of_years = input('Enter a year or a range of years in the form XXXX -- XXXX: ')\n",
    "month = input('Enter a month: ')\n",
    "average = 0\n",
    "years_above_average = []\n",
    "\n",
    "# REPLACE THIS COMMENT WITH YOUR CODE\n",
    "try:\n",
    "    if source != 'GCAG' and source != 'GISTEMP':\n",
    "        raise ValueError\n",
    "except ValueError:\n",
    "    print('Wrong source input, giving up...')\n",
    "    sys.exit()\n",
    "#extract years from string (year_or_range_of_years) to max_year and min_year\n",
    "import re\n",
    "year_L = re.findall(r'\\d+', year_or_range_of_years)\n",
    "# year_L = re.split(r'[\\s\\-]+', year_or_range_of_years.strip())\n",
    "try:\n",
    "    if len(year_L) == 2:\n",
    "        if int(year_L[1]) >= int(year_L[0]):\n",
    "            max_year = int(year_L[1])\n",
    "            min_year = int(year_L[0])\n",
    "        if int(year_L[1]) < int(year_L[0]):\n",
    "            max_year = int(year_L[0])\n",
    "            min_year = int(year_L[1])\n",
    "    elif len(year_L) == 1:\n",
    "        max_year = min_year = int(year_L[0])\n",
    "    else:\n",
    "        raise ValueError\n",
    "except ValueError:\n",
    "    print('Wrong year input, giving up...')\n",
    "    sys.exit()\n",
    "# build a mapping between English month and digit month by dictionary\n",
    "month_mapping = {'January': '01', 'February': '02', 'March':'03', 'April':'04', 'May':'05', 'June':'06', 'July':'07', 'August':'08', 'September':'09', 'October':'10', 'November':'11', 'December':'12', 'january': '01', 'february': '02', 'march':'03', 'april':'04', 'may':'05', 'june':'06', 'july':'07', 'august':'08', 'september':'09', 'october':'10', 'november':'11', 'december':'12', 'Jan': '01', 'Feb': '02', 'Mar':'03', 'Apr':'04', 'Jun':'06', 'Jul':'07', 'Aug':'08', 'Sep':'09', 'Oct':'10', 'Nov':'11', 'Dec':'12', 'jan': '01', 'feb': '02', 'mar':'03', 'apr':'04', 'jun':'06', 'jul':'07', 'aug':'08', 'sep':'09', 'oct':'10', 'nov':'11', 'dec':'12'}\n",
    "try:\n",
    "    num_month = int(month_mapping[month])\n",
    "except KeyError:\n",
    "    print('Wrong month input, giving up...')\n",
    "    sys.exit()\n",
    "# open and input data from csv file to list\n",
    "data = []   # store year and mean, formula:[[year, mean], ...]\n",
    "with open(filename, 'r') as csvfile:\n",
    "    reader = csv.reader(csvfile)\n",
    "    for item in reader:\n",
    "        if reader.line_num == 1:\n",
    "            continue\n",
    "        if item[0] == source:\n",
    "            date = item[1].split('-')\n",
    "            if max_year >= int(date[0]) and min_year <= int(date[0]):\n",
    "                if num_month == int(date[1]):\n",
    "                    data.append([int(date[0]), float(item[2])])\n",
    "\n",
    "sum_of_list = 0\n",
    "for item in data:\n",
    "    sum_of_list += item[1]\n",
    "average = sum_of_list / len(data)\n",
    "for item in data:\n",
    "    if item[1] > average:\n",
    "        years_above_average.append(item[0])\n",
    "years_above_average = sorted(years_above_average)\n",
    "        \n",
    "print(data)\n",
    "\n",
    "\n",
    "print(f'The average anomaly for {month} in this range of years is: {average:.2f}.')\n",
    "print('The list of years when the temperature anomaly was above average is:')\n",
    "print(years_above_average)"
   ]
  },
  {
   "cell_type": "code",
   "execution_count": 139,
   "metadata": {},
   "outputs": [
    {
     "name": "stdout",
     "output_type": "stream",
     "text": [
      "Enter a year or a range of years in the form XXXX -- XXXX: 2013-1024\n",
      "2013-1024\n",
      "['2013', '1024']\n",
      "['GISTEMP', '1880-01-06', '-0.3']\n",
      "['1880', '01', '06']\n",
      "['2013', '1024']\n"
     ]
    }
   ],
   "source": [
    "import sys\n",
    "import os\n",
    "import csv\n",
    "\n",
    "\n",
    "filename = 'monthly_csv.csv'\n",
    "if not os.path.exists(filename):\n",
    "    print(f'There is no file named {filename} in the working directory, giving up...')\n",
    "    sys.exit()\n",
    "\n",
    "# source = input('Enter the source (GCAG or GISTEMP): ')\n",
    "year_or_range_of_years = input('Enter a year or a range of years in the form XXXX -- XXXX: ')\n",
    "# month = input('Enter a month: ')\n",
    "num_month = '05'\n",
    "average = 0\n",
    "years_above_average = []\n",
    "print(year_or_range_of_years)\n",
    "import re\n",
    "year_L = re.findall(r'\\d+', year_or_range_of_years)\n",
    "print(year_L)\n",
    "try:\n",
    "    if len(year_L) == 2:\n",
    "        if int(year_L[1]) >= int(year_L[0]):\n",
    "            max_year = int(year_L[1])\n",
    "            min_year = int(year_L[0])\n",
    "        if int(year_L[1]) < int(year_L[0]):\n",
    "            max_year = int(year_L[0])\n",
    "            min_year = int(year_L[1])\n",
    "    elif len(year_L) == 1:\n",
    "        max_year = min_year = int(year_L[0])\n",
    "    else:\n",
    "        raise ValueError\n",
    "except ValueError:\n",
    "    print('Wrong year input, giving up...')\n",
    "    sys.exit()\n",
    "# build a mapping\n",
    "with open(filename, 'r') as csvfile:\n",
    "    reader = csv.reader(csvfile)\n",
    "    for item in reader:\n",
    "        if reader.line_num == 1:\n",
    "            continue\n",
    "        if item[0] == source:\n",
    "            date = item[1].split('-')\n",
    "            if max_year >= int(date[0]) and min_year <= int(date[0]):\n",
    "                if num_month == int(date[1]):\n",
    "                    data.append([int(date[0]), float(item[2])])\n",
    "print(item)\n",
    "print(date)\n",
    "print(year_L)"
   ]
  },
  {
   "cell_type": "code",
   "execution_count": 81,
   "metadata": {},
   "outputs": [
    {
     "name": "stdout",
     "output_type": "stream",
     "text": [
      "2016-11-18 00:00:00\n"
     ]
    }
   ],
   "source": [
    "import time\n",
    "import datetime\n",
    "time='Friday, November 18, 2016'\n",
    "time_format=datetime.datetime.strptime(time,'%A, %B %d, %Y')\n",
    "print (time_format)\n"
   ]
  },
  {
   "cell_type": "code",
   "execution_count": 82,
   "metadata": {},
   "outputs": [
    {
     "name": "stdout",
     "output_type": "stream",
     "text": [
      "There is no file named monthly_csv.csv in the working directory, giving up...\n"
     ]
    },
    {
     "ename": "SystemExit",
     "evalue": "",
     "output_type": "error",
     "traceback": [
      "An exception has occurred, use %tb to see the full traceback.\n",
      "\u001b[0;31mSystemExit\u001b[0m\n"
     ]
    },
    {
     "name": "stderr",
     "output_type": "stream",
     "text": [
      "/anaconda3/lib/python3.6/site-packages/IPython/core/interactiveshell.py:2971: UserWarning: To exit: use 'exit', 'quit', or Ctrl-D.\n",
      "  warn(\"To exit: use 'exit', 'quit', or Ctrl-D.\", stacklevel=1)\n"
     ]
    }
   ],
   "source": [
    "# Uses Global Temperature Time Series, avalaible at\n",
    "# http://data.okfn.org/data/core/global-temp, stored in the file monthly_csv.csv,\n",
    "# assumed to be stored in the working directory.\n",
    "# Prompts the user for the source, a year or a range of years, and a month.\n",
    "# - The source is either GCAG or GISTEMP.\n",
    "# - The range of years is of the form xxxx -- xxxx (with any number of spaces,\n",
    "#   possibly none, around --) and both years can be the same,\n",
    "#   or the first year can be anterior to the second year,\n",
    "#   or the first year can be posterior to the first year.\n",
    "# We assume that the input is correct and the data for the requested month\n",
    "# exist for all years in the requested range.\n",
    "# Then outputs:\n",
    "# - The average of the values for that source, for this month, for those years.\n",
    "# - The list of years (in increasing order) for which the value is larger than that average.\n",
    "# \n",
    "# Written by *** and Eric Martin for COMP9021\n",
    "\n",
    "\n",
    "import sys\n",
    "import os\n",
    "import csv\n",
    "\n",
    "\n",
    "filename = 'monthly_csv.csv'\n",
    "if not os.path.exists(filename):\n",
    "    print(f'There is no file named {filename} in the working directory, giving up...')\n",
    "    sys.exit()\n",
    "\n",
    "source = input('Enter the source (GCAG or GISTEMP): ')\n",
    "year_or_range_of_years = input('Enter a year or a range of years in the form XXXX -- XXXX: ')\n",
    "month = input('Enter a month: ')\n",
    "average = 0\n",
    "years_above_average = []\n",
    "\n",
    "# REPLACE THIS COMMENT WITH YOUR CODE\n",
    "\n",
    "print(f'The average anomaly for {month} in this range of years is: {average:.2f}.')\n",
    "print('The list of years when the temperature anomaly was above average is:')\n",
    "print(years_above_average)"
   ]
  },
  {
   "cell_type": "code",
   "execution_count": 184,
   "metadata": {},
   "outputs": [
    {
     "name": "stdout",
     "output_type": "stream",
     "text": [
      "6\n",
      "['1983', '1958']\n",
      "1958\n",
      "1983\n",
      "[[1983, 0.18], [1982, 0.05], [1981, 0.31], [1980, 0.16], [1979, 0.14], [1978, -0.03], [1977, 0.25], [1976, -0.15], [1975, -0.02], [1974, -0.05], [1973, 0.16], [1972, 0.04], [1971, -0.18], [1970, -0.03], [1969, 0.05], [1968, -0.06], [1967, -0.08], [1966, 0.02], [1965, -0.08], [1964, -0.07], [1963, 0.03], [1962, 0.06], [1961, 0.12], [1960, 0.01], [1959, 0.02], [1958, -0.05]]\n"
     ]
    }
   ],
   "source": [
    "import sys\n",
    "import os\n",
    "import csv\n",
    "\n",
    "\n",
    "filename = 'monthly_csv.csv'\n",
    "if not os.path.exists(filename):\n",
    "    print(f'There is no file named {filename} in the working directory, giving up...')\n",
    "    sys.exit()\n",
    "\n",
    "# source = input('Enter the source (GCAG or GISTEMP): ')\n",
    "# year_or_range_of_years = input('Enter a year or a range of years in the form XXXX -- XXXX: ')\n",
    "# month = input('Enter a month: ')\n",
    "source = 'GISTEMP'\n",
    "year_or_range_of_years = '1983-1958'\n",
    "month= 'January'\n",
    "average = 0\n",
    "years_above_average = []\n",
    "\n",
    "#month,str to num\n",
    "month= 'June'\n",
    "month_table = [[['January'],1], [['February'],2], [['March'],3], [['April'],4], [['May'],5], [['June'],6], [['July'],7], [['August'],8],[['September'],9], [['October'],10], [['November'],11], [['December'],12]]\n",
    "for m in month_table:\n",
    "    if m[0]==[month]:\n",
    "        month = m[1]\n",
    "print(month)\n",
    "#year,str to list\n",
    "import re\n",
    "year = re.compile(r'\\d+')\n",
    "year_S = year.findall(year_or_range_of_years)\n",
    "if len(year_S) == 2:\n",
    "    year_L = sorted([int(year_S[0]),int(year_S[1])])\n",
    "    max_year = year_L[1]\n",
    "    min_year = year_L[0]\n",
    "else: \n",
    "    max_year = min_year = int(year_S[0])\n",
    "print(year_S)\n",
    "print(min_year)\n",
    "print(max_year)\n",
    "#read file\n",
    "data=[]\n",
    "with open(filename, 'r') as csvfile:\n",
    "    reader = csv.reader(csvfile)\n",
    "    for line in reader:\n",
    "        if line[0] == source:\n",
    "            date = line[1].split('-')\n",
    "            if max_year >= int(date[0]) and min_year <= int(date[0]):\n",
    "                if month == int(date[1]):\n",
    "                    data.append([int(date[0]), float(line[2])])\n",
    "print(data)\n",
    "sum = 0\n",
    "for i in data:\n",
    "    sum += (i[1])\n",
    "average = sum / len(data)\n",
    "for i in data:\n",
    "    if i[1] > average:\n",
    "        years_above_average.append(i[0])\n",
    "years_above_average = sorted(years_above_average)"
   ]
  },
  {
   "cell_type": "code",
   "execution_count": 116,
   "metadata": {},
   "outputs": [
    {
     "name": "stdout",
     "output_type": "stream",
     "text": [
      "1\n"
     ]
    }
   ],
   "source": [
    "with open(filename, 'r') as csvfile:\n",
    "    reader = csv.reader(csvfile)\n",
    "    for item in reader:\n",
    "        if reader.line_num == 1:\n",
    "            continue\n",
    "        if item[0] == source:\n",
    "            date = item[1].split('-')\n",
    "            if max_year >= int(date[0]) and min_year <= int(date[0]):\n",
    "                if num_month == int(date[1]):\n",
    "                    data.append([int(date[0]), float(item[2])])"
   ]
  },
  {
   "cell_type": "code",
   "execution_count": 104,
   "metadata": {},
   "outputs": [
    {
     "name": "stdout",
     "output_type": "stream",
     "text": [
      "[['January'], [1]]\n"
     ]
    }
   ],
   "source": [
    "month_table = [['January'],[1]]\n",
    "print(month_table)"
   ]
  },
  {
   "cell_type": "code",
   "execution_count": null,
   "metadata": {},
   "outputs": [],
   "source": []
  }
 ],
 "metadata": {
  "kernelspec": {
   "display_name": "Python 3",
   "language": "python",
   "name": "python3"
  },
  "language_info": {
   "codemirror_mode": {
    "name": "ipython",
    "version": 3
   },
   "file_extension": ".py",
   "mimetype": "text/x-python",
   "name": "python",
   "nbconvert_exporter": "python",
   "pygments_lexer": "ipython3",
   "version": "3.6.5"
  }
 },
 "nbformat": 4,
 "nbformat_minor": 2
}
