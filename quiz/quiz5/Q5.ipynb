{
 "cells": [
  {
   "cell_type": "code",
   "execution_count": null,
   "metadata": {},
   "outputs": [],
   "source": [
    "# Does not need to be executed if ~/.ipython/profile_default/ipython_config.py\n",
    "# exists and contains get_config().InteractiveShell.ast_node_interactivity = 'all'\n",
    "\n",
    "from IPython.core.interactiveshell import InteractiveShell\n",
    "InteractiveShell.ast_node_interactivity = 'all'"
   ]
  },
  {
   "cell_type": "code",
   "execution_count": null,
   "metadata": {},
   "outputs": [],
   "source": [
    "bin(73)"
   ]
  },
  {
   "cell_type": "code",
   "execution_count": null,
   "metadata": {},
   "outputs": [],
   "source": [
    "bin(7)[:1:-1]"
   ]
  },
  {
   "cell_type": "code",
   "execution_count": null,
   "metadata": {},
   "outputs": [],
   "source": [
    "int('101100',2)"
   ]
  },
  {
   "cell_type": "code",
   "execution_count": null,
   "metadata": {},
   "outputs": [],
   "source": [
    "str(bin(7))"
   ]
  },
  {
   "cell_type": "code",
   "execution_count": null,
   "metadata": {},
   "outputs": [],
   "source": [
    "import re\n",
    "L=[]\n",
    "L.append(re.findall(r'\\d',bin(7)))\n",
    "print(L)"
   ]
  },
  {
   "cell_type": "code",
   "execution_count": 7,
   "metadata": {},
   "outputs": [
    {
     "name": "stdout",
     "output_type": "stream",
     "text": [
      "Input a nonnegative integer: 0\n",
      "The encoded set is: {}\n",
      "The derived set is encoded as: 0\n",
      "It is: {}\n"
     ]
    }
   ],
   "source": [
    "# Prompts the user for a nonnegative integer that codes a set S as follows:\n",
    "# - Bit 0 codes 0\n",
    "# - Bit 1 codes -1\n",
    "# - Bit 2 codes 1\n",
    "# - Bit 3 codes -2\n",
    "# - Bit 4 codes 2\n",
    "# - Bit 5 codes -3\n",
    "# - Bit 6 codes 3\n",
    "# ...\n",
    "# Computes a derived nonnegative number that codes the set of running sums\n",
    "# of the members of S when those are listed in increasing order.\n",
    "#\n",
    "# Computes the ordered list of members of a coded set.\n",
    "#\n",
    "# Written by *** and Eric Martin for COMP9021\n",
    "\n",
    "\n",
    "import sys\n",
    "\n",
    "try:\n",
    "    encoded_set = int(input('Input a nonnegative integer: '))\n",
    "    if encoded_set < 0:\n",
    "        raise ValueError\n",
    "except ValueError:\n",
    "    print('Incorrect input, giving up.')\n",
    "    sys.exit()\n",
    "        \n",
    "def display(L):\n",
    "    print('{', end = '')\n",
    "    print(', '.join(str(e) for e in L), end = '')\n",
    "    print('}')\n",
    "\n",
    "def decode(encoded_set):\n",
    "    decode_set = []\n",
    "    set_l_h = bin(encoded_set)[:1:-1]\n",
    "    for i in range(0,len(set_l_h)):\n",
    "        if int(set_l_h[i]) == 1:\n",
    "            b = int((-1) ** (i%2)) * 1 * int((i+1)/2)\n",
    "            decode_set.append(b)\n",
    "    decode_set.sort()    \n",
    "    return decode_set\n",
    "    \n",
    "def code_derived_set(encoded_set):\n",
    "    list_decode = decode(encoded_set)\n",
    "    list_new = []\n",
    "    j = 0\n",
    "    for i in list_decode:\n",
    "        j += i\n",
    "        list_new.append(j)\n",
    "    list_new = set(list_new)\n",
    "    list_new = list(list_new)\n",
    "    list_new.sort()\n",
    "    anticode_byte = []\n",
    "    for a in range(len(list_new)):\n",
    "        if list_new[a] >= 0:\n",
    "            anticode_byte.append(int(list_new[a] * 2))\n",
    "        else:\n",
    "            anticode_byte.append(int(list_new[a] * (-2) -1))\n",
    "    anticode = ''\n",
    "    if anticode_byte == []:\n",
    "        encoded_value = 0\n",
    "    else:\n",
    "        for i in range(0,max(anticode_byte)+1):\n",
    "            if i in anticode_byte:\n",
    "                anticode = anticode + '1'\n",
    "            else:\n",
    "                anticode = anticode + '0'\n",
    "        anticode = anticode[::-1]\n",
    "        encoded_value = int(anticode,2)\n",
    "    return encoded_value\n",
    "\n",
    "\n",
    "print('The encoded set is: ', end = '')\n",
    "display(decode(encoded_set))\n",
    "code_of_derived_set = code_derived_set(encoded_set)\n",
    "print('The derived set is encoded as:', code_of_derived_set)\n",
    "print('It is: ', end = '')\n",
    "display(decode(code_of_derived_set))\n"
   ]
  },
  {
   "cell_type": "code",
   "execution_count": null,
   "metadata": {},
   "outputs": [],
   "source": [
    "def a(i):\n",
    "    b = int((-1) ** (i%2)) * 1 * int((i+1)/2)\n",
    "    return b\n",
    "a(5)"
   ]
  },
  {
   "cell_type": "code",
   "execution_count": null,
   "metadata": {},
   "outputs": [],
   "source": []
  },
  {
   "cell_type": "code",
   "execution_count": null,
   "metadata": {},
   "outputs": [],
   "source": [
    "b = (-1 ** (1%2))\n",
    "print(b)"
   ]
  },
  {
   "cell_type": "code",
   "execution_count": null,
   "metadata": {},
   "outputs": [],
   "source": [
    "str = '123456'\n",
    "print(len(str))"
   ]
  },
  {
   "cell_type": "code",
   "execution_count": null,
   "metadata": {},
   "outputs": [],
   "source": [
    "2 / -1"
   ]
  },
  {
   "cell_type": "code",
   "execution_count": null,
   "metadata": {},
   "outputs": [],
   "source": [
    "a = '101'\n",
    "print(a+'1')"
   ]
  },
  {
   "cell_type": "code",
   "execution_count": null,
   "metadata": {},
   "outputs": [],
   "source": [
    "a = ''\n",
    "b = a + '1'\n",
    "print(a)\n",
    "print(b)"
   ]
  },
  {
   "cell_type": "code",
   "execution_count": 1,
   "metadata": {},
   "outputs": [
    {
     "name": "stdout",
     "output_type": "stream",
     "text": [
      "{2, 3}\n"
     ]
    }
   ],
   "source": [
    "def display(L):\n",
    "    print('{', end = '')\n",
    "    M = [str(e) for e in L]\n",
    "    print(', '.join(M), end = '')\n",
    "    print('}')\n",
    "    \n",
    "display([2,3])"
   ]
  },
  {
   "cell_type": "code",
   "execution_count": null,
   "metadata": {},
   "outputs": [],
   "source": []
  },
  {
   "cell_type": "code",
   "execution_count": null,
   "metadata": {},
   "outputs": [],
   "source": []
  }
 ],
 "metadata": {
  "kernelspec": {
   "display_name": "Python 3",
   "language": "python",
   "name": "python3"
  },
  "language_info": {
   "codemirror_mode": {
    "name": "ipython",
    "version": 3
   },
   "file_extension": ".py",
   "mimetype": "text/x-python",
   "name": "python",
   "nbconvert_exporter": "python",
   "pygments_lexer": "ipython3",
   "version": "3.6.5"
  }
 },
 "nbformat": 4,
 "nbformat_minor": 2
}
