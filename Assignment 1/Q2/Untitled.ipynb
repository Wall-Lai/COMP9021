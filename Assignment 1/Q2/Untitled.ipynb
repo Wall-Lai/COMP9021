{
 "cells": [
  {
   "cell_type": "code",
   "execution_count": 5,
   "metadata": {},
   "outputs": [
    {
     "name": "stdout",
     "output_type": "stream",
     "text": [
      "[4, -3, 1, 2, -7]\n",
      "[4, -3, 1, 2, -7]\n",
      "[4, -3, 1, 2, -7]\n",
      "[-3, 1, 2, -7]\n",
      "-3\n",
      "-2\n",
      "0\n",
      "-7\n",
      "[0, -3, -2, 0, -7]\n",
      "[4, -3, 1, 2, -7]\n",
      "11\n"
     ]
    }
   ],
   "source": [
    "heroes = [4, -3, 1, 2, -7]\n",
    "heroes_4 = []\n",
    "for i in heroes:\n",
    "    heroes_4.append(i)\n",
    "l4 = [0]\n",
    "print(heroes_4)\n",
    "print(heroes)\n",
    "\n",
    "while(True):\n",
    "    if len(heroes_4) == 0:\n",
    "        break\n",
    "    else:\n",
    "        \n",
    "\n",
    "        i = 0\n",
    "        while i < len(heroes_4):\n",
    "            if heroes_4[i] < 0:\n",
    "                break\n",
    "            else:\n",
    "                heroes_4.remove(heroes_4[i])\n",
    "        print(heroes)\n",
    "        print(heroes_4)\n",
    "\n",
    "        removel= []\n",
    "        i = 0\n",
    "        while i < len(heroes_4):\n",
    "            s = sum(heroes_4[0:i+1])\n",
    "            if s <= 0:\n",
    "                l4.append(s)\n",
    "                removel.append(heroes_4[i])\n",
    "                i += 1 \n",
    "                print(s)\n",
    "            else:\n",
    "                break\n",
    "        for i in removel:\n",
    "            heroes_4.remove(i)\n",
    "\n",
    "max4 = sum(heroes) - min(l4)*2    \n",
    "print(l4)\n",
    "print(heroes)\n",
    "print(max4)"
   ]
  },
  {
   "cell_type": "code",
   "execution_count": null,
   "metadata": {},
   "outputs": [],
   "source": []
  }
 ],
 "metadata": {
  "kernelspec": {
   "display_name": "Python 3",
   "language": "python",
   "name": "python3"
  },
  "language_info": {
   "codemirror_mode": {
    "name": "ipython",
    "version": 3
   },
   "file_extension": ".py",
   "mimetype": "text/x-python",
   "name": "python",
   "nbconvert_exporter": "python",
   "pygments_lexer": "ipython3",
   "version": "3.6.5"
  }
 },
 "nbformat": 4,
 "nbformat_minor": 2
}
