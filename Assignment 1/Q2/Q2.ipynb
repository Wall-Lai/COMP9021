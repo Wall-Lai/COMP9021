{
 "cells": [
  {
   "cell_type": "code",
   "execution_count": 60,
   "metadata": {},
   "outputs": [
    {
     "name": "stdout",
     "output_type": "stream",
     "text": [
      "Please input the heroes' powers2 3  4\n",
      "[2, 3, 4]\n",
      "Please input the number of power flips:2\n",
      "2\n"
     ]
    }
   ],
   "source": [
    "import sys\n",
    "list_h = []\n",
    "heroes = []\n",
    "try:\n",
    "    list_h = input('Please input the heroes\\' powers').split()\n",
    "    for i in range(0,len(list_h)):\n",
    "        heroes.append(int(list_h[i]))\n",
    "    print(heroes)\n",
    "except ValueError:\n",
    "    print('Sorry, these are not valid power values.')\n",
    "    sys.exit()\n",
    "try:\n",
    "    nb_of_switches = input('Please input the number of power flips:')\n",
    "    nb_of_switches = int(nb_of_switches)\n",
    "    print(nb_of_switches)\n",
    "    if nb_of_switches < 0 or len(list_h)< nb_of_switches:\n",
    "        raise ValueError\n",
    "except ValueError:\n",
    "    print('Sorry, this is not a valid number of power flips.')\n",
    "    sys.exit()"
   ]
  },
  {
   "cell_type": "code",
   "execution_count": null,
   "metadata": {},
   "outputs": [],
   "source": [
    "heroes = [4, -3, 1, 2, -7]\n",
    "3\n",
    "heroes = [-7, 1, 2, 3, 4] \n",
    "5\n",
    "heroes = [1, 2, 3, 4, 5]\n",
    "2"
   ]
  },
  {
   "cell_type": "code",
   "execution_count": 57,
   "metadata": {},
   "outputs": [
    {
     "name": "stdout",
     "output_type": "stream",
     "text": [
      "3\n",
      "3\n",
      "2\n",
      "2\n",
      "1\n",
      "15\n",
      "[-1, 2, 3, 4, 7]\n"
     ]
    }
   ],
   "source": [
    "heroes = [4, -3, 1, 2, -7]\n",
    "nb_of_switches = 3\n",
    "heroes1 = []\n",
    "heroes1 = sorted(heroes)\n",
    "i = 0\n",
    "for i in range(0, len(heroes1)):\n",
    "    if heroes1[i] < 0:\n",
    "        print(nb_of_switches)\n",
    "        if nb_of_switches > 1:\n",
    "            print(nb_of_switches)\n",
    "            heroes1[i] = heroes1[i] * (-1)\n",
    "            nb_of_switches -= 1\n",
    "        remainder = nb_of_switches % 2\n",
    "heroes1 = sorted(heroes1)\n",
    "if remainder == 1:\n",
    "    heroes1[0] = heroes1[0] * (-1)\n",
    "max1 = sum(heroes1)\n",
    "\n",
    "\n",
    "\n",
    "print(remainder)\n",
    "print(max1)\n",
    "print(heroes1)"
   ]
  },
  {
   "cell_type": "code",
   "execution_count": 125,
   "metadata": {},
   "outputs": [
    {
     "name": "stdout",
     "output_type": "stream",
     "text": [
      "-3\n"
     ]
    }
   ],
   "source": [
    "heroes = [-7, 1, 2, 3, 4] \n",
    "nb_of_switches = 5\n",
    "heroes2 = []\n",
    "heroes2 = sorted(heroes)\n",
    "i = 0\n",
    "for i in range(0, nb_of_switches):\n",
    "    heroes2[i] =  heroes2[i] * (-1)\n",
    "max2 = sum(heroes2)\n",
    "print(max2)"
   ]
  },
  {
   "cell_type": "code",
   "execution_count": 75,
   "metadata": {},
   "outputs": [
    {
     "name": "stdout",
     "output_type": "stream",
     "text": [
      "-4\n",
      "5\n"
     ]
    }
   ],
   "source": [
    "heroes = [4, -3, 1, 2, -7]\n",
    "nb_of_switches = 3\n",
    "sum_s = 0\n",
    "sum_l = []\n",
    "for i in range(0, len(heroes)-nb_of_switches+1):\n",
    "    sum_s = sum(heroes[i:i+nb_of_switches])\n",
    "    sum_l.append(sum_s)\n",
    "max3 = sum(heroes) - min(sum_l)*2  \n",
    "    \n",
    "print(sum_s)\n",
    "print(max3)"
   ]
  },
  {
   "cell_type": "code",
   "execution_count": 90,
   "metadata": {},
   "outputs": [
    {
     "data": {
      "text/plain": [
       "3"
      ]
     },
     "execution_count": 90,
     "metadata": {},
     "output_type": "execute_result"
    }
   ],
   "source": [
    "heroes = [1, 2, 3, 4, 5]\n",
    "sum(heroes[0:2])"
   ]
  },
  {
   "cell_type": "code",
   "execution_count": 79,
   "metadata": {},
   "outputs": [
    {
     "name": "stdout",
     "output_type": "stream",
     "text": [
      "['physics', 'chemistry', 1997, 2000]\n",
      "['physics', 'chemistry', 2000]\n"
     ]
    }
   ],
   "source": [
    "list1 = ['physics', 'chemistry', 1997, 2000]\n",
    " \n",
    "print (list1)\n",
    "del list1[2]\n",
    "print (list1)"
   ]
  },
  {
   "cell_type": "code",
   "execution_count": 118,
   "metadata": {},
   "outputs": [
    {
     "name": "stdout",
     "output_type": "stream",
     "text": [
      "[-7, 1, 2, 3, 4]\n",
      "[-7, 1, 2, 3, 4]\n",
      "-7\n",
      "-6\n",
      "-4\n",
      "-1\n",
      "[]\n",
      "[0, -7, -6, -4, -1]\n",
      "[-7, 1, 2, 3, 4]\n",
      "17\n"
     ]
    }
   ],
   "source": [
    "heroes = [-7, 1, 2, 3, 4] \n",
    "heroes4 = []\n",
    "for i in heroes:\n",
    "    heroes4.append(i)\n",
    "l4 = [0]\n",
    "print(heroes4)\n",
    "\n",
    "while(True):\n",
    "    if len(heroes4) == 0:\n",
    "        break\n",
    "    else:\n",
    "        \n",
    "\n",
    "        i = 0\n",
    "        while i < len(heroes4):\n",
    "            if heroes4[i] < 0:\n",
    "                break\n",
    "            else:\n",
    "                heroes4.remove(heroes4[i])\n",
    "\n",
    "        print(heroes4)\n",
    "\n",
    "        removel= []\n",
    "        i = 0\n",
    "        while i < len(heroes4):\n",
    "            s = sum(heroes4[0:i+1])\n",
    "            if s <= 0:\n",
    "                l4.append(s)\n",
    "                removel.append(heroes4[i])\n",
    "                i += 1 \n",
    "                print(s)\n",
    "            else:\n",
    "                break\n",
    "        for i in removel:\n",
    "            heroes4.remove(i)\n",
    "\n",
    "max4 = sum(heroes) - min(l4)*2    \n",
    "print(l4)\n",
    "print(heroes)\n",
    "print(max4)"
   ]
  },
  {
   "cell_type": "code",
   "execution_count": null,
   "metadata": {},
   "outputs": [],
   "source": [
    "import sys\n",
    "list_h = []\n",
    "heroes = []\n",
    "try:\n",
    "    list_h = input('Please input the heroes\\' powers').split()\n",
    "    for i in range(0,len(list_h)):\n",
    "        heroes.append(int(list_h[i]))\n",
    "    print(heroes)\n",
    "except ValueError:\n",
    "    print('Sorry, these are not valid power values.')\n",
    "    sys.exit()\n",
    "try:\n",
    "    nb_of_switches = input('Please input the number of power flips:')\n",
    "    nb_of_switches = int(nb_of_switches)\n",
    "    print(nb_of_switches)\n",
    "    if nb_of_switches < 0 or len(list_h)< nb_of_switches:\n",
    "        raise ValueError\n",
    "except ValueError:\n",
    "    print('Sorry, this is not a valid number of power flips.')\n",
    "    sys.exit()\n",
    "#for Q1\n",
    "heroes1 = []\n",
    "heroes1 = sorted(heroes)\n",
    "nb_of_switches1 = nb_of_switches\n",
    "i = 0\n",
    "for i in range(0, len(heroes1)):\n",
    "    if heroes1[i] < 0:\n",
    "        if nb_of_switches1 > 1:\n",
    "            heroes1[i] = heroes1[i] * (-1)\n",
    "            nb_of_switches1 -= 1\n",
    "        remainder = nb_of_switches1 % 2\n",
    "heroes1 = sorted(heroes1)\n",
    "if remainder == 1:\n",
    "    heroes1[0] = heroes1[0] * (-1)\n",
    "max1 = sum(heroes1)\n",
    "#for Q2\n",
    "heroes2 = []\n",
    "heroes2 = sorted(heroes)\n",
    "i = 0\n",
    "for i in range(0, nb_of_switches):\n",
    "    heroes2[i] =  heroes2[i] * (-1)\n",
    "max2 = sum(heroes2)\n",
    "\n",
    "# for Q3\n",
    "sum_s = 0\n",
    "sum_l = []\n",
    "for i in range(0, len(heroes)-nb_of_switches+1):\n",
    "    sum_s = sum(heroes[i:i+nb_of_switches])\n",
    "    sum_l.append(sum_s)\n",
    "max3 = sum(heroes) - min(sum_l)*2  \n",
    "#for Q4\n",
    "for i in heroes:\n",
    "    heroes4.append(i)\n",
    "l4 = [0]\n",
    "while(True):\n",
    "    if len(heroes4) == 0:\n",
    "        break\n",
    "    else:\n",
    "        i = 0\n",
    "        while i < len(heroes4):\n",
    "            if heroes4[i] < 0:\n",
    "                break\n",
    "            else:\n",
    "                heroes4.remove(heroes4[i])\n",
    "\n",
    "        removel= []\n",
    "        i = 0\n",
    "        while i < len(heroes4):\n",
    "            s = sum(heroes4[0:i+1])\n",
    "            if s <= 0:\n",
    "                l4.append(s)\n",
    "                removel.append(heroes4[i])\n",
    "                i += 1 \n",
    "            else:\n",
    "                break\n",
    "        for i in removel:\n",
    "            heroes4.remove(i)\n",
    "\n",
    "max4 = sum(heroes) - min(l4)*2    \n",
    "#print out\n",
    "print(f'Possibly flipping the power of the same hero many times, the greatest achievable power is {max1}.')\n",
    "print(f'Flipping the power of the same hero at most once, the greatest achievable power is {max2}.')\n",
    "print(f'Flipping the power of nb_of_flips many consecutive heroes, the greatest achievable power is {max3}.')\n",
    "print(f'Flipping the power of arbitrarily many consecutive heroes, the greatest achievable power is {max4}.')"
   ]
  },
  {
   "cell_type": "code",
   "execution_count": null,
   "metadata": {},
   "outputs": [],
   "source": []
  }
 ],
 "metadata": {
  "kernelspec": {
   "display_name": "Python 3",
   "language": "python",
   "name": "python3"
  },
  "language_info": {
   "codemirror_mode": {
    "name": "ipython",
    "version": 3
   },
   "file_extension": ".py",
   "mimetype": "text/x-python",
   "name": "python",
   "nbconvert_exporter": "python",
   "pygments_lexer": "ipython3",
   "version": "3.6.5"
  }
 },
 "nbformat": 4,
 "nbformat_minor": 2
}
