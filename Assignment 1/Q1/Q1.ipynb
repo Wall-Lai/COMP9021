{
 "cells": [
  {
   "cell_type": "code",
   "execution_count": 107,
   "metadata": {},
   "outputs": [
    {
     "name": "stdout",
     "output_type": "stream",
     "text": [
      "How many decilitres of water do you want to pour down? 3\n",
      "[2, 4, 1, 1, 2]\n",
      "[2, 2, 2, 2, 2, 1, 3, 4, 3, 2, 2, 3, 5, 3, 2, 2, 4, 1, 1, 2]\n",
      "{2: 10, 1: 3, 3: 4, 4: 2, 5: 1}\n"
     ]
    }
   ],
   "source": [
    "import sys\n",
    "import os\n",
    "import operator\n",
    "from functools import reduce\n",
    "# filename = input('Which data file do you want to use? ')\n",
    "filename = 'land.txt'\n",
    "if not os.path.exists(filename):\n",
    "    print(f'There is no file named {filename} in the working directory, giving up...')\n",
    "    sys.exit()\n",
    "decilitre_water = input('How many decilitres of water do you want to pour down? ')\n",
    "try:\n",
    "    decilitre_water = int(decilitre_water)\n",
    "    if decilitre_water < 1:\n",
    "        raise ValueError\n",
    "except ValueError:\n",
    "    print('Incorrect input, giving up.')\n",
    "    sys.exit() \n",
    "#read file\n",
    "result = []\n",
    "k=5\n",
    "with open(filename,'r') as f:\n",
    "    result=f.readlines()\n",
    "    dataset=[]\n",
    "    for line in result:\n",
    "        temp1=line.strip('\\n')\n",
    "        temp2=temp1.split('\\t')\n",
    "        dataset.append(temp2)\n",
    "# print(result)\n",
    "all = []\n",
    "n = int(len(a)/2)-1\n",
    "target = []\n",
    "for i in range(len(dataset)):\n",
    "#     print(dataset[i][0])\n",
    "    all.append(dataset[i][0])\n",
    "    target_list = [int(x) for x in dataset[i][0].split(' ')]\n",
    "    target.append(target_list)\n",
    "# print(all)\n",
    "# target_list = [int(x) for x in dataset[0][0].split(' ')]\n",
    "target = reduce(operator.add, target)\n",
    "print (target_list)\n",
    "print(target)\n",
    "# print(dataset[0][0])\n",
    "# print(len(dataset))\n",
    "# print(dataset[0][0])\n",
    "# print(len(dataset[0]))\n",
    "# print(dataset) \n",
    "# type(a)\n",
    "# print(len(a))\n",
    "dict = {}\n",
    "for key in target:\n",
    "    dict[key] = dict.get(key, 0) + 1\n",
    "print (dict)"
   ]
  },
  {
   "cell_type": "code",
   "execution_count": null,
   "metadata": {},
   "outputs": [],
   "source": [
    "## from collections import defaultdict\n",
    "\n",
    "strings = ('puppy', 'kitten', 'puppy', 'puppy',\n",
    "           'weasel', 'puppy', 'kitten', 'puppy')\n",
    "counts = defaultdict(lambda: 0)  # 使用lambda来定义简单的函数\n",
    "\n",
    "for s in strings:\n",
    "    counts[s] += 1\n",
    "print(counts)"
   ]
  },
  {
   "cell_type": "code",
   "execution_count": 58,
   "metadata": {},
   "outputs": [
    {
     "name": "stdout",
     "output_type": "stream",
     "text": [
      "[2257, 4018, 1096]\n"
     ]
    },
    {
     "data": {
      "text/plain": [
       "14"
      ]
     },
     "execution_count": 58,
     "metadata": {},
     "output_type": "execute_result"
    }
   ],
   "source": [
    "list = ['2257 4018 1096']\n",
    "str='2257 4018 1096'\n",
    "\n",
    "target_list = [int(x) for x in str.split(' ')]\n",
    "print (target_list)\n",
    "len(list[0])"
   ]
  },
  {
   "cell_type": "code",
   "execution_count": 98,
   "metadata": {},
   "outputs": [
    {
     "name": "stdout",
     "output_type": "stream",
     "text": [
      "{1: 3, 2: 2, 3: 1}\n"
     ]
    }
   ],
   "source": [
    "a = [1, 2, 3, 1, 1, 2]\n",
    "dict = {}\n",
    "for key in a:\n",
    "    dict[key] = dict.get(key, 0) + 1\n",
    "print (dict)"
   ]
  },
  {
   "cell_type": "code",
   "execution_count": 100,
   "metadata": {},
   "outputs": [
    {
     "name": "stdout",
     "output_type": "stream",
     "text": [
      "[1, 2, 3, 4, 5, 5, 7, 8, 9]\n"
     ]
    }
   ],
   "source": [
    "import operator\n",
    "from functools import reduce\n",
    "a = [[1,2,3], [4,5,5], [7,8,9]]\n",
    "print(reduce(operator.add, a))"
   ]
  },
  {
   "cell_type": "code",
   "execution_count": 118,
   "metadata": {},
   "outputs": [
    {
     "name": "stdout",
     "output_type": "stream",
     "text": [
      "How many decilitres of water do you want to pour down? 3\n",
      "{2: 10, 1: 3, 3: 4, 4: 2, 5: 1}\n"
     ]
    }
   ],
   "source": [
    "import sys\n",
    "import os\n",
    "import operator\n",
    "from functools import reduce\n",
    "# filename = input('Which data file do you want to use? ')\n",
    "filename = 'land.txt'\n",
    "if not os.path.exists(filename):\n",
    "    print(f'There is no file named {filename} in the working directory, giving up...')\n",
    "    sys.exit()\n",
    "decilitre_water = input('How many decilitres of water do you want to pour down? ')\n",
    "try:\n",
    "    decilitre_water = int(decilitre_water)\n",
    "    if decilitre_water < 1:\n",
    "        raise ValueError\n",
    "except ValueError:\n",
    "    print('Incorrect input, giving up.')\n",
    "    sys.exit() \n",
    "#read file\n",
    "result = []\n",
    "with open(filename,'r') as f:\n",
    "    result=f.readlines()\n",
    "    datalist=[]\n",
    "    for line in result:\n",
    "        temp1=line.strip('\\n')\n",
    "        temp2=temp1.split('\\t')\n",
    "        datalist.append(temp2)\n",
    "target = []\n",
    "for i in range(len(datalist)):\n",
    "    target_list = [int(x) for x in datalist[i][0].split(' ')]\n",
    "    target.append(target_list)\n",
    "target = reduce(operator.add, target)\n",
    "all_num_d = {}\n",
    "for key in target:\n",
    "    all_num_d[key] = all_num_d.get(key, 0) + 1\n",
    "print (all_num_d)"
   ]
  },
  {
   "cell_type": "code",
   "execution_count": 15,
   "metadata": {
    "scrolled": true
   },
   "outputs": [
    {
     "name": "stdout",
     "output_type": "stream",
     "text": [
      "3 16 33 52 72\n",
      "4.894736842105263\n",
      "\n"
     ]
    }
   ],
   "source": [
    "all_num_d = {2: 10, 1: 3, 3: 4, 4: 2, 5: 1}\n",
    "decilitre_water = 50\n",
    "hight = 0\n",
    "sum1 = all_num_d[1]\n",
    "sum2 = all_num_d[2] + all_num_d[1] * 2\n",
    "sum3 = all_num_d[3] + all_num_d[2] * 2 + all_num_d[1] * 3\n",
    "sum4 = all_num_d[4] + all_num_d[3] * 2 + all_num_d[2] * 3 + all_num_d[1] * 4\n",
    "sum5 = all_num_d[5] + all_num_d[4] * 2 + all_num_d[3] * 3 + all_num_d[2] * 4 + all_num_d[1] * 5\n",
    "print(sum1,sum2,sum3,sum4,sum5)\n",
    "if decilitre_water <= sum1:\n",
    "    hight = decilitre_water / all_num_d[1] +1\n",
    "if sum1 < decilitre_water <= sum2:\n",
    "    hight = (decilitre_water - sum1) / (all_num_d[1] + all_num_d[2]) +2\n",
    "if sum2 < decilitre_water <= sum3:\n",
    "    hight = (decilitre_water - sum2) / (all_num_d[1] + all_num_d[2] + all_num_d[3]) +3\n",
    "if sum3 < decilitre_water <= sum4:\n",
    "    hight = (decilitre_water - sum3) / (all_num_d[1] + all_num_d[2] + all_num_d[3] + all_num_d[4]) +4\n",
    "if sum4 < decilitre_water <= sum5:\n",
    "    hight = (decilitre_water - sum4) / (all_num_d[1] + all_num_d[2] + all_num_d[3] + all_num_d[4] + all_num_d[5]) +5\n",
    "if sum5 < decilitre_water:\n",
    "    hight = 6\n",
    "print(hight)"
   ]
  },
  {
   "cell_type": "code",
   "execution_count": 20,
   "metadata": {},
   "outputs": [
    {
     "name": "stdout",
     "output_type": "stream",
     "text": [
      "How many decilitres of water do you want to pour down? 324\n",
      "6\n"
     ]
    }
   ],
   "source": [
    "import sys\n",
    "import os\n",
    "import operator\n",
    "from functools import reduce\n",
    "# filename = input('Which data file do you want to use? ')\n",
    "filename = 'land.txt'\n",
    "if not os.path.exists(filename):\n",
    "    print(f'There is no file named {filename} in the working directory, giving up...')\n",
    "    sys.exit()\n",
    "decilitre_water = input('How many decilitres of water do you want to pour down? ')\n",
    "try:\n",
    "    decilitre_water = int(decilitre_water)\n",
    "    if decilitre_water < 1:\n",
    "        raise ValueError\n",
    "except ValueError:\n",
    "    print('Incorrect input, giving up.')\n",
    "    sys.exit() \n",
    "#read file\n",
    "result = []\n",
    "with open(filename,'r') as f:\n",
    "    result=f.readlines()\n",
    "    datalist=[]\n",
    "    for line in result:\n",
    "        temp1=line.strip('\\n')\n",
    "        temp2=temp1.split('\\t')\n",
    "        datalist.append(temp2)\n",
    "target = []\n",
    "for i in range(len(datalist)):\n",
    "    target_list = [int(x) for x in datalist[i][0].split(' ')]\n",
    "    target.append(target_list)\n",
    "target = reduce(operator.add, target)\n",
    "all_num_d = {}\n",
    "for key in target:\n",
    "    all_num_d[key] = all_num_d.get(key, 0) + 1\n",
    "#calculate hight\n",
    "hight = 0\n",
    "sum1 = all_num_d[1]\n",
    "sum2 = all_num_d[2] + all_num_d[1] * 2\n",
    "sum3 = all_num_d[3] + all_num_d[2] * 2 + all_num_d[1] * 3\n",
    "sum4 = all_num_d[4] + all_num_d[3] * 2 + all_num_d[2] * 3 + all_num_d[1] * 4\n",
    "sum5 = all_num_d[5] + all_num_d[4] * 2 + all_num_d[3] * 3 + all_num_d[2] * 4 + all_num_d[1] * 5\n",
    "# print(sum1,sum2,sum3,sum4,sum5)\n",
    "if decilitre_water <= sum1:\n",
    "    hight = decilitre_water / all_num_d[1] +1\n",
    "if sum1 < decilitre_water <= sum2:\n",
    "    hight = (decilitre_water - sum1) / (all_num_d[1] + all_num_d[2]) +2\n",
    "if sum2 < decilitre_water <= sum3:\n",
    "    hight = (decilitre_water - sum2) / (all_num_d[1] + all_num_d[2] + all_num_d[3]) +3\n",
    "if sum3 < decilitre_water <= sum4:\n",
    "    hight = (decilitre_water - sum3) / (all_num_d[1] + all_num_d[2] + all_num_d[3] + all_num_d[4]) +4\n",
    "if sum4 < decilitre_water <= sum5:\n",
    "    hight = (decilitre_water - sum4) / (all_num_d[1] + all_num_d[2] + all_num_d[3] + all_num_d[4] + all_num_d[5]) +5\n",
    "if sum5 < decilitre_water:\n",
    "    hight = 6\n",
    "print(hight)"
   ]
  },
  {
   "cell_type": "code",
   "execution_count": null,
   "metadata": {},
   "outputs": [],
   "source": []
  }
 ],
 "metadata": {
  "kernelspec": {
   "display_name": "Python 3",
   "language": "python",
   "name": "python3"
  },
  "language_info": {
   "codemirror_mode": {
    "name": "ipython",
    "version": 3
   },
   "file_extension": ".py",
   "mimetype": "text/x-python",
   "name": "python",
   "nbconvert_exporter": "python",
   "pygments_lexer": "ipython3",
   "version": "3.6.5"
  }
 },
 "nbformat": 4,
 "nbformat_minor": 2
}
