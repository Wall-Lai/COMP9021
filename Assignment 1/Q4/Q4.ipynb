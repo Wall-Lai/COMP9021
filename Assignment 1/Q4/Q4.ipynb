{
 "cells": [
  {
   "cell_type": "code",
   "execution_count": 40,
   "metadata": {},
   "outputs": [
    {
     "name": "stdout",
     "output_type": "stream",
     "text": [
      "[['8', '7', '5', '6', '8', '9', '4', '8', '7'], ['6', '4', '3', '4', '5', '1', '2', '1', '2']]\n",
      "From the west, one can see into the tunnel over a distance of 2.\n"
     ]
    }
   ],
   "source": [
    "import os.path\n",
    "import sys\n",
    "import re\n",
    "from collections import deque\n",
    "\n",
    "filename = 'tunnel_2.txt'\n",
    "# filename = input('Which data file do you want to use? ')\n",
    "if not os.path.exists(filename):\n",
    "    print(f'There is no file named {filename} in the working directory, giving up...')\n",
    "    sys.exit()\n",
    "#read file and check the file\n",
    "result = []\n",
    "a_l = []\n",
    "L=[]\n",
    "with open(filename,'r') as f:\n",
    "    result=f.readlines()\n",
    "#arrange file to list\n",
    "for i in result:\n",
    "    if i != '\\n':\n",
    "        L.append(re.findall(r'\\w+',i))\n",
    "\n",
    "print(L)\n",
    "try:\n",
    "    if len(L) != 2:\n",
    "        raise ValueError\n",
    "    if len(L[0]) <= 1 or len(L[1]) <= 1 or len(L[0]) != len(L[1]):\n",
    "        raise ValueError\n",
    "    for i in range(len(L[0])):\n",
    "        if int(L[0][i]) <= int(L[1][i]):\n",
    "            raise ValueError\n",
    "except ValueError:\n",
    "    print('Sorry, input file does not store valid data.')\n",
    "    sys.exit() \n",
    "    \n",
    "for i in L:\n",
    "    if i != []:\n",
    "        a_l.append(list(map(int, i)))\n",
    "#distance from west\n",
    "ceil = a_l[0]\n",
    "floor = a_l[1]\n",
    "num_c = 0\n",
    "num_f = 0\n",
    "for i in ceil:\n",
    "    if i > floor[0]:\n",
    "        num_c += 1\n",
    "    else:\n",
    "        break\n",
    "for i in floor:\n",
    "    if i < ceil[0]:\n",
    "        num_f += 1\n",
    "    else:\n",
    "        break\n",
    "distance_from_west = min(num_c,num_f)\n",
    "print(f'From the west, one can see into the tunnel over a distance of {distance_from_west}.')"
   ]
  },
  {
   "cell_type": "code",
   "execution_count": 15,
   "metadata": {},
   "outputs": [
    {
     "name": "stdout",
     "output_type": "stream",
     "text": [
      "Inside the tunnel, one can see into the tunnel over a maximum distance of 4.\n"
     ]
    }
   ],
   "source": [
    "ceil = [8, 7, 5, 6, 8, 9, 4, 8, 7]\n",
    "floor = [6, 4, 3, 4, 5, 1, 2, 1, 2]\n",
    "distance_L = []\n",
    "for i in range(0,len(ceil)):\n",
    "    count_ceil = 0\n",
    "    count_floor = 0\n",
    "    for j in range(i + 1, len(ceil)):\n",
    "        if ceil[i] >= ceil[j]:\n",
    "            break\n",
    "        else:            \n",
    "            if ceil[i] < floor[j]:\n",
    "                if ceil[i+1] > floor[j]:\n",
    "                    ceil[i] = ceil[j]\n",
    "                    count_ceil += 1\n",
    "                else:\n",
    "                    break\n",
    "            else:\n",
    "                count_ceil += 1\n",
    "    distance_L.append(count_ceil)\n",
    "    for j in range(i + 1, len(ceil)):\n",
    "        if floor[i] <= floor[j]:\n",
    "            break\n",
    "        else:\n",
    "            if floor[i] > ceil[j]:\n",
    "                if floor[i+1] < ceil[j]:\n",
    "                    floor[i] = ceil[j]\n",
    "                    count_floor += 1\n",
    "                else:\n",
    "                    break\n",
    "            else:\n",
    "                count_floor += 1\n",
    "    distance_L.append(count_floor)\n",
    "distance = max(distance_L)\n",
    "print(f'Inside the tunnel, one can see into the tunnel over a maximum distance of {distance}.')"
   ]
  },
  {
   "cell_type": "code",
   "execution_count": 13,
   "metadata": {},
   "outputs": [
    {
     "name": "stdout",
     "output_type": "stream",
     "text": [
      "cell: 2\n",
      "floor: 2\n",
      "cell: 3\n",
      "floor: 3\n",
      "cell: 4\n",
      "floor: 4\n",
      "cell: 5\n",
      "floor: 5\n",
      "[5]\n"
     ]
    }
   ],
   "source": [
    "# print(distance_from_west)\n",
    "\n",
    "#distance inside\n",
    "distance_L = []\n",
    "\n",
    "# for i in range(0,len(cell)):\n",
    "#     collections = 0\n",
    "#     collections_cell = 1\n",
    "#     collections_floor = 1\n",
    "#     for j in range(i+1,len(cell)):\n",
    "#         collections_cell = 1\n",
    "#         collections_floor = 1\n",
    "#         if cell[i] <= cell[j]:\n",
    "#             collections_cell += 1\n",
    "#         if cell[i] > floor[j]:\n",
    "#             collections_floor +=1\n",
    "#         else:\n",
    "#             break\n",
    "#     collections = min(collections_cell,collections_floor)\n",
    "#     distance_L.append(collections)\n",
    "\n",
    "# for i in range(0,len(floor)):\n",
    "i=1\n",
    "collections = 0\n",
    "collections_cell = 1\n",
    "collections_floor = 1\n",
    "for j in range(i+1,len(floor)):\n",
    "    if floor[i] < cell[j]:\n",
    "        collections_cell += 1\n",
    "        print(f'cell:',collections_cell)\n",
    "    if floor[i-1] >= floor[j] and floor[i] < cell[j]:\n",
    "        collections_floor += 1\n",
    "        print(f'floor:',collections_floor)\n",
    "    else:\n",
    "        break\n",
    "    collections = min(collections_cell,collections_floor)\n",
    "distance_L.append(collections)\n",
    "# print(a_l)\n",
    "print(distance_L)\n"
   ]
  },
  {
   "cell_type": "code",
   "execution_count": 67,
   "metadata": {},
   "outputs": [],
   "source": [
    "from collections import deque\n",
    "cell = deque('abcdefg')\n"
   ]
  },
  {
   "cell_type": "code",
   "execution_count": 75,
   "metadata": {},
   "outputs": [
    {
     "name": "stdout",
     "output_type": "stream",
     "text": [
      "From the right\n",
      "g\n",
      "f\n",
      "e\n",
      "d\n",
      "c\n",
      "b\n",
      "a\n",
      "\n",
      " From the left\n",
      "0\n",
      "1\n",
      "2\n",
      "3\n",
      "4\n",
      "5\n"
     ]
    }
   ],
   "source": [
    "import collections\n",
    "print (\"From the right\")\n",
    "d=collections.deque('abcdefg')\n",
    "while True:\n",
    "    try:\n",
    "        print (d.pop())\n",
    "    except IndexError:\n",
    "        break\n",
    "print\n",
    " \n",
    "print ('\\n From the left')\n",
    "d=collections.deque(range(6))\n",
    "while True:\n",
    "    try:\n",
    "        print (d.popleft())\n",
    "    except IndexError:\n",
    "        break\n",
    "\n"
   ]
  },
  {
   "cell_type": "code",
   "execution_count": null,
   "metadata": {},
   "outputs": [],
   "source": []
  },
  {
   "cell_type": "code",
   "execution_count": 32,
   "metadata": {},
   "outputs": [
    {
     "name": "stdout",
     "output_type": "stream",
     "text": [
      "[7, 9, 6, 8]\n"
     ]
    }
   ],
   "source": [
    "a=['7', '9', '6', '8']\n",
    "al=[]\n",
    "for i in a:\n",
    "    al.append(int(i))\n",
    "print(al)"
   ]
  },
  {
   "cell_type": "code",
   "execution_count": 33,
   "metadata": {},
   "outputs": [
    {
     "data": {
      "text/plain": [
       "[131232, 1, 2, 3, 3, 4, 5, 5, 6, 7]"
      ]
     },
     "execution_count": 33,
     "metadata": {},
     "output_type": "execute_result"
    }
   ],
   "source": [
    "a = [[1,2,3],[3,4,5],[5,6,7]]\n",
    "sum(a,[131232])"
   ]
  },
  {
   "cell_type": "code",
   "execution_count": 109,
   "metadata": {},
   "outputs": [
    {
     "name": "stdout",
     "output_type": "stream",
     "text": [
      "1\n",
      "[2]\n"
     ]
    }
   ],
   "source": [
    "cell=[7, 9, 6, 8]\n",
    "floor=[6, 2, 1, 5]\n",
    "distance_L=[]\n",
    "# for i in range(0,len(floor)):\n",
    "i=1\n",
    "collections = 1\n",
    "for j in range(i+1,len(floor)):\n",
    "\n",
    "    if floor[i] >= floor[j] and floor[i] < cell[j]:\n",
    "        collections += 1\n",
    "        print(1)\n",
    "    else:\n",
    "        break\n",
    "distance_L.append(collections)   \n",
    "print(distance_L)"
   ]
  },
  {
   "cell_type": "code",
   "execution_count": 131,
   "metadata": {},
   "outputs": [],
   "source": [
    "for i in range(5,4):\n",
    "    print(1)"
   ]
  },
  {
   "cell_type": "code",
   "execution_count": 41,
   "metadata": {},
   "outputs": [
    {
     "name": "stdout",
     "output_type": "stream",
     "text": [
      "Which data file do you want to use? tunnel_2.txt\n",
      "[['8', '7', '5', '6', '8', '9', '4', '8', '7'], ['6', '4', '3', '4', '5', '1', '2', '1', '2']]\n",
      "From the west, one can see into the tunnel over a distance of 2.\n",
      "Inside the tunnel, one can see into the tunnel over a maximum distance of 4.\n"
     ]
    }
   ],
   "source": [
    "import os.path\n",
    "import sys\n",
    "import re\n",
    "from collections import deque\n",
    "\n",
    "# filename = 'tunnel_2.txt'\n",
    "filename = input('Which data file do you want to use? ')\n",
    "if not os.path.exists(filename):\n",
    "    print(f'There is no file named {filename} in the working directory, giving up...')\n",
    "    sys.exit()\n",
    "#read file and check the file\n",
    "result = []\n",
    "a_l = []\n",
    "L=[]\n",
    "with open(filename,'r') as f:\n",
    "    result=f.readlines()\n",
    "#arrange file to list\n",
    "for i in result:\n",
    "    if i != '\\n':\n",
    "        L.append(re.findall(r'\\w+',i))\n",
    "\n",
    "print(L)\n",
    "try:\n",
    "    if len(L) != 2:\n",
    "        raise ValueError\n",
    "    if len(L[0]) <= 1 or len(L[1]) <= 1 or len(L[0]) != len(L[1]):\n",
    "        raise ValueError\n",
    "    for i in range(len(L[0])):\n",
    "        if int(L[0][i]) <= int(L[1][i]):\n",
    "            raise ValueError\n",
    "except ValueError:\n",
    "    print('Sorry, input file does not store valid data.')\n",
    "    sys.exit() \n",
    "    \n",
    "for i in L:\n",
    "    if i != []:\n",
    "        a_l.append(list(map(int, i)))\n",
    "#distance from west\n",
    "ceil = a_l[0]\n",
    "floor = a_l[1]\n",
    "num_c = 0\n",
    "num_f = 0\n",
    "for i in ceil:\n",
    "    if i > floor[0]:\n",
    "        num_c += 1\n",
    "    else:\n",
    "        break\n",
    "for i in floor:\n",
    "    if i < ceil[0]:\n",
    "        num_f += 1\n",
    "    else:\n",
    "        break\n",
    "distance_from_west = min(num_c,num_f)\n",
    "print(f'From the west, one can see into the tunnel over a distance of {distance_from_west}.')\n",
    "#Q2\n",
    "distance_L = []\n",
    "for i in range(0,len(ceil)):\n",
    "    count_ceil = 0\n",
    "    count_floor = 0\n",
    "    for j in range(i + 1, len(ceil)):\n",
    "        if ceil[i] >= ceil[j]:\n",
    "            break\n",
    "        else:            \n",
    "            if ceil[i] < floor[j]:\n",
    "                if ceil[i+1] > floor[j]:\n",
    "                    ceil[i] = ceil[j]\n",
    "                    count_ceil += 1\n",
    "                else:\n",
    "                    break\n",
    "            else:\n",
    "                count_ceil += 1\n",
    "    distance_L.append(count_ceil)\n",
    "    for j in range(i + 1, len(ceil)):\n",
    "        if floor[i] <= floor[j]:\n",
    "            break\n",
    "        else:\n",
    "            if floor[i] > ceil[j]:\n",
    "                if floor[i+1] < ceil[j]:\n",
    "                    floor[i] = ceil[j]\n",
    "                    count_floor += 1\n",
    "                else:\n",
    "                    break\n",
    "            else:\n",
    "                count_floor += 1\n",
    "    distance_L.append(count_floor)\n",
    "distance = max(distance_L)\n",
    "print(f'Inside the tunnel, one can see into the tunnel over a maximum distance of {distance}.')\n"
   ]
  },
  {
   "cell_type": "code",
   "execution_count": null,
   "metadata": {},
   "outputs": [],
   "source": []
  }
 ],
 "metadata": {
  "kernelspec": {
   "display_name": "Python 3",
   "language": "python",
   "name": "python3"
  },
  "language_info": {
   "codemirror_mode": {
    "name": "ipython",
    "version": 3
   },
   "file_extension": ".py",
   "mimetype": "text/x-python",
   "name": "python",
   "nbconvert_exporter": "python",
   "pygments_lexer": "ipython3",
   "version": "3.6.5"
  }
 },
 "nbformat": 4,
 "nbformat_minor": 2
}
