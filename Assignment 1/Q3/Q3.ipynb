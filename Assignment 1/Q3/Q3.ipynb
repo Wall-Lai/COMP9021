{
 "cells": [
  {
   "cell_type": "code",
   "execution_count": null,
   "metadata": {},
   "outputs": [],
   "source": [
    "cable_car_1.txt\n",
    "cable_car_2.txt\n",
    "cable_car_3.txt\n",
    "cable_car_wrong_1.txt\n",
    "cable_car_wrong_2.txt\n",
    "cable_car_wrong_3.txt\n",
    "cable_car_wrong_4.txt\n",
    "cable_car_wrong_5.txt\n",
    "car = [5, 8, 11, 14]\n",
    "car = [5, 10, 14, 15, 20, 25, 26, 27, 28, 30, 31]\n",
    "car = [10, 13, 20, 30, 40, 42, 44, 46, 48, 50, 60, 70, 80, 82, 85, 87, 90, 100, 101, 110, 113, 117, 121]"
   ]
  },
  {
   "cell_type": "code",
   "execution_count": 176,
   "metadata": {},
   "outputs": [
    {
     "name": "stdout",
     "output_type": "stream",
     "text": [
      "Please enter the name of the file you want to get data from: cable_car_wrong_1.txt\n",
      "[['6']]\n",
      "Sorry, input file does not store valid data.\n"
     ]
    },
    {
     "ename": "SystemExit",
     "evalue": "",
     "output_type": "error",
     "traceback": [
      "An exception has occurred, use %tb to see the full traceback.\n",
      "\u001b[0;31mSystemExit\u001b[0m\n"
     ]
    },
    {
     "name": "stderr",
     "output_type": "stream",
     "text": [
      "/anaconda3/lib/python3.6/site-packages/IPython/core/interactiveshell.py:2971: UserWarning: To exit: use 'exit', 'quit', or Ctrl-D.\n",
      "  warn(\"To exit: use 'exit', 'quit', or Ctrl-D.\", stacklevel=1)\n"
     ]
    }
   ],
   "source": [
    "import sys\n",
    "import re\n",
    "import os.path\n",
    "from collections import defaultdict\n",
    "from collections import Counter\n",
    "\n",
    "\n",
    "#check file name\n",
    "\n",
    "filename = input('Please enter the name of the file you want to get data from: ')\n",
    "if not os.path.exists(filename):\n",
    "    print('Sorry, there is no such file.')\n",
    "    sys.exit()\n",
    "\n",
    "#read the value and check the value in the function\n",
    "result = []\n",
    "L = []\n",
    "a_l = []\n",
    "with open(filename,'r') as f:\n",
    "    result=f.readlines()\n",
    "for i in result:\n",
    "    L.append(re.findall(r'\\w+',i))\n",
    "print(L)    \n",
    "#this part is to check if value is number\n",
    "try:\n",
    "    for c in range(0,len(L[0])-1):\n",
    "        L[0][c] = int(L[0][c])\n",
    "        if L[0][c] <= 0:\n",
    "            raise ValueError\n",
    "        if int(L[0][c]) >= int(L[0][c+1]):\n",
    "            raise ValueError\n",
    "    if len(L) < 2:\n",
    "        raise ValueError\n",
    "except ValueError:\n",
    "    print('Sorry, input file does not store valid data.')\n",
    "    sys.exit() \n",
    "\n",
    "for i in L:\n",
    "    if i != []:\n",
    "        a_l.append(list(map(int, i)))\n",
    "car = []\n",
    "car = sum(a_l,[])\n",
    "\n",
    "print(car)\n",
    "print(L)\n"
   ]
  },
  {
   "cell_type": "code",
   "execution_count": 87,
   "metadata": {},
   "outputs": [
    {
     "name": "stdout",
     "output_type": "stream",
     "text": [
      "The ride is perfect!\n"
     ]
    }
   ],
   "source": [
    "car = [5, 8, 11, 14]\n",
    "per = []\n",
    "for n in range (0, len(car)-1):\n",
    "    per.append(car[n+1]-car[n])\n",
    "if len(set(per)) == 1:\n",
    "    print('The ride is perfect!')\n",
    "else:\n",
    "    print('The ride could be better...')"
   ]
  },
  {
   "cell_type": "code",
   "execution_count": 100,
   "metadata": {},
   "outputs": [
    {
     "name": "stdout",
     "output_type": "stream",
     "text": [
      "The longest good ride has a length of: 5\n"
     ]
    }
   ],
   "source": [
    "car = [10, 13, 20, 30, 40, 42, 44, 46, 48, 50, 60, 70, 80, 82, 85, 87, 90, 100, 101, 110, 113, 117, 121]\n",
    "longest_perfect_ride = 0\n",
    "longest_perfect_ride_L = []\n",
    "n = 1\n",
    "for i in range(1,len(car)-1):\n",
    "    if car[i] - car[i-1] == car[i+1] - car[i]:\n",
    "        n += 1\n",
    "        longest_perfect_ride_L.append(n)\n",
    "    else:\n",
    "        n = 1\n",
    "longest_perfect_ride = max(longest_perfect_ride_L)\n",
    "print(f'The longest good ride has a length of: {longest_perfect_ride}')"
   ]
  },
  {
   "cell_type": "code",
   "execution_count": 159,
   "metadata": {},
   "outputs": [
    {
     "name": "stdout",
     "output_type": "stream",
     "text": [
      "The minimal number of pillars to remove to build a perfect ride from the rest is: 12\n"
     ]
    }
   ],
   "source": [
    "car = [10, 13, 20, 30, 40, 42, 44, 46, 48, 50, 60, 70, 80, 82, 85, 87, 90, 100, 101, 110, 113, 117, 121]\n",
    "minimal_number_of_pillars = 0\n",
    "L_all_diff = []\n",
    "L_min_num = []\n",
    "for i in range(1,len(car)): \n",
    "    L_of_each_pillar = []\n",
    "    for j in range(0,i):\n",
    "        diff = car[i]-car[j]\n",
    "        L_of_each_pillar.append(diff)\n",
    "        if j >= 1:\n",
    "            if diff in L_all_diff[j-1]:\n",
    "                L_min_num.append(diff)\n",
    "        else:\n",
    "            continue\n",
    "    L_all_diff.append(L_of_each_pillar)\n",
    "\n",
    "from collections import Counter\n",
    "pillars = Counter(L_min_num)\n",
    "top = pillars.most_common(1)\n",
    "minimal_number_of_pillars = len(car) - (top[0][1] + 1 + 1)\n",
    "print(f'The minimal number of pillars to remove to build a perfect ride from the rest is: {minimal_number_of_pillars}')"
   ]
  },
  {
   "cell_type": "code",
   "execution_count": 144,
   "metadata": {},
   "outputs": [
    {
     "name": "stdout",
     "output_type": "stream",
     "text": [
      "1\n"
     ]
    }
   ],
   "source": [
    "car = [[5, 8], [11, 14]]\n",
    "if 5 in car[0]:\n",
    "    print (1)"
   ]
  },
  {
   "cell_type": "code",
   "execution_count": null,
   "metadata": {},
   "outputs": [],
   "source": []
  }
 ],
 "metadata": {
  "kernelspec": {
   "display_name": "Python 3",
   "language": "python",
   "name": "python3"
  },
  "language_info": {
   "codemirror_mode": {
    "name": "ipython",
    "version": 3
   },
   "file_extension": ".py",
   "mimetype": "text/x-python",
   "name": "python",
   "nbconvert_exporter": "python",
   "pygments_lexer": "ipython3",
   "version": "3.6.5"
  }
 },
 "nbformat": 4,
 "nbformat_minor": 2
}
