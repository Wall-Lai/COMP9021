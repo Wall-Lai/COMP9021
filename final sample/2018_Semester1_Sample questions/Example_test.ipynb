{
 "cells": [
  {
   "cell_type": "code",
   "execution_count": null,
   "metadata": {},
   "outputs": [],
   "source": [
    "string = ['a','ab','ac','acd','abc']\n",
    "string2 = sorted(string)\n",
    "print(string)\n",
    "print(string2)"
   ]
  },
  {
   "cell_type": "code",
   "execution_count": null,
   "metadata": {},
   "outputs": [],
   "source": [
    "aaa = 'aaabbc'\n",
    "n = ''\n",
    "list_str = []\n",
    "for t in range(6):\n",
    "    n = ''\n",
    "    print(t)\n",
    "    for i in aaa[t:]:\n",
    "        if i not in n:\n",
    "            \n",
    "            n = n+i\n",
    "            if n not in list_str:\n",
    "                list_str.append(n)\n",
    "print(list_str)            "
   ]
  },
  {
   "cell_type": "code",
   "execution_count": null,
   "metadata": {},
   "outputs": [],
   "source": [
    "#Lab6_1\n",
    "\n",
    "def deal(available_digits,desired_sum):\n",
    "    if desired_sum < 0:\n",
    "        return 0\n",
    "    if available_digits == 0:\n",
    "        if desired_sum == 0:\n",
    "            return 1\n",
    "        return 0\n",
    "    else:\n",
    "        return deal(available_digits//10,desired_sum) + deal(available_digits//10,desired_sum-available_digits%10)\n",
    "    \n",
    "nb = deal(12234,5)   \n",
    "print(nb)"
   ]
  },
  {
   "cell_type": "code",
   "execution_count": null,
   "metadata": {},
   "outputs": [],
   "source": [
    "#lab6_2\n",
    "# a = 'ab'\n",
    "# b = 'cd'\n",
    "# c = 'abcde'\n",
    "list_input = []\n",
    "a = input('Please input the first string:')\n",
    "b = input('Please input the second string:')\n",
    "c = input('Please input the third string:')\n",
    "list_input = [a,b,c]\n",
    "def find_obtainer(a,b,c):\n",
    "    if len(a)>len(b):\n",
    "        if len(a)>len(c):\n",
    "            return a\n",
    "        else:\n",
    "            return c\n",
    "    if len(a)<len(b):\n",
    "        if len(b)>len(c):\n",
    "            return b\n",
    "        else:\n",
    "            return c\n",
    "    else:\n",
    "        return c\n",
    "\n",
    "def obtanined_result():\n",
    "    global obtainer\n",
    "    obtainer = find_obtainer(a,b,c) \n",
    "    list_input.remove(obtainer)\n",
    "    if list_input[0] + list_input[1] == obtainer or list_input[1] + list_input[0] == obtainer:\n",
    "        return True\n",
    "    else:\n",
    "        return False\n",
    "\n",
    "result = obtanined_result()\n",
    "if result:\n",
    "    if obtainer == a:    \n",
    "        print(f'The first string can be obtained by merging the other two.')\n",
    "    if obtainer == b:    \n",
    "        print(f'The second string can be obtained by merging the other two.')\n",
    "    if obtainer == c:\n",
    "        print(f'The third string can be obtained by merging the other two.')\n",
    "else:\n",
    "    print(f'No solution.')"
   ]
  },
  {
   "cell_type": "code",
   "execution_count": null,
   "metadata": {},
   "outputs": [],
   "source": [
    "#lab7_1\n",
    "\n",
    "face_value = [1,2,5,10,20,50,100]\n",
    "change = int(input('Input the desired amount:'))\n",
    "change_detail = []\n",
    "while change > 0:\n",
    "    value = face_value.pop()\n",
    "    nb = 0\n",
    "    while change >= value:        \n",
    "        change -= value\n",
    "        nb += 1\n",
    "    change_detail.append([value,nb])\n",
    "all_nb = 0\n",
    "for i in range(len(change_detail)):\n",
    "    all_nb += change_detail[i][1]\n",
    "print(f'{all_nb} banknotes are needed')\n",
    "print(f'The detail is:')\n",
    "for i in range(len(change_detail)):\n",
    "    if change_detail[i][1] > 0:\n",
    "        print(f'{\"$\" + str(change_detail[i][0])}:{change_detail[i][1]}')\n",
    "# print(change_detail)        "
   ]
  },
  {
   "cell_type": "code",
   "execution_count": null,
   "metadata": {},
   "outputs": [],
   "source": [
    "def fibo(n):\n",
    "    previous = 1\n",
    "    current = 1\n",
    "    number = [1]\n",
    "    while n >= current:\n",
    "        number.append(current)\n",
    "        previous, current = current, previous+current\n",
    "    return number    "
   ]
  },
  {
   "cell_type": "code",
   "execution_count": null,
   "metadata": {},
   "outputs": [],
   "source": [
    "fibo(20)"
   ]
  },
  {
   "cell_type": "code",
   "execution_count": null,
   "metadata": {},
   "outputs": [],
   "source": [
    "good_leaps = tuple(sum(range(0, k, 2)) for k in range(2, 13, 2))\n",
    "print(good_leaps)"
   ]
  },
  {
   "cell_type": "code",
   "execution_count": null,
   "metadata": {},
   "outputs": [],
   "source": [
    "def triangles():\n",
    "    N=[1]\n",
    "    while True:\n",
    "        yield N\n",
    "        N.append(0)\n",
    "        N=[N[i-1] + N[i] for i in range(len(N))]\n",
    "n=0\n",
    "for t in triangles():\n",
    "    print(t)\n",
    "    n=n+1\n",
    "    if n == 10:\n",
    "        break\n"
   ]
  },
  {
   "cell_type": "code",
   "execution_count": null,
   "metadata": {},
   "outputs": [],
   "source": [
    "def triangles():\n",
    "    a=[1]\n",
    "    while True:\n",
    "        yield a\n",
    "        a=[sum(i) for i in zip([0]+a,a+[0])]\n",
    "n=0\n",
    "for t in triangles():\n",
    "    print(t)\n",
    "    n=n+1\n",
    "    if n == 10:\n",
    "        break\n"
   ]
  },
  {
   "cell_type": "code",
   "execution_count": null,
   "metadata": {},
   "outputs": [],
   "source": [
    "a=[1]\n",
    "n= 0\n",
    "while n<10:\n",
    "    print (a)\n",
    "    a=[sum(i) for i in zip([0]+a,a+[0])]\n",
    "    0 += 1"
   ]
  },
  {
   "cell_type": "code",
   "execution_count": null,
   "metadata": {},
   "outputs": [],
   "source": [
    "def aaa():\n",
    "    ab=[sum(i) for i in zip([0]+ab,ab+[0])]\n",
    "    return ab"
   ]
  },
  {
   "cell_type": "code",
   "execution_count": null,
   "metadata": {},
   "outputs": [],
   "source": [
    "ab = [1,1]\n"
   ]
  },
  {
   "cell_type": "code",
   "execution_count": null,
   "metadata": {},
   "outputs": [],
   "source": [
    "aaa()"
   ]
  },
  {
   "cell_type": "code",
   "execution_count": 12,
   "metadata": {},
   "outputs": [
    {
     "name": "stdout",
     "output_type": "stream",
     "text": [
      "         1 \n",
      "        1 1 \n",
      "       1 2 1 \n",
      "      1 3 3 1 \n",
      "     1 4 6 4 1 \n",
      "    1 5 10 10 5 1 \n",
      "   1 6 15 20 15 6 1 \n",
      "  1 7 21 35 35 21 7 1 \n",
      " 1 8 28 56 70 56 28 8 1 \n",
      "1 9 36 84 126 126 84 36 9 1 \n"
     ]
    }
   ],
   "source": [
    "def yang():\n",
    "    a = [1]\n",
    "    while True:\n",
    "        yield a\n",
    "        a = [sum(i) for i in zip([0]+a,a+[0])]\n",
    "        \n",
    "n = 0\n",
    "for t in yang():\n",
    "    print(' '* (9-n),end = '')\n",
    "    for m in range(len(t)):\n",
    "        print(t[m],end = ' ')\n",
    "    print()\n",
    "    n += 1\n",
    "    if n == 10:\n",
    "        break"
   ]
  },
  {
   "cell_type": "code",
   "execution_count": null,
   "metadata": {},
   "outputs": [],
   "source": []
  }
 ],
 "metadata": {
  "kernelspec": {
   "display_name": "Python 3",
   "language": "python",
   "name": "python3"
  },
  "language_info": {
   "codemirror_mode": {
    "name": "ipython",
    "version": 3
   },
   "file_extension": ".py",
   "mimetype": "text/x-python",
   "name": "python",
   "nbconvert_exporter": "python",
   "pygments_lexer": "ipython3",
   "version": "3.6.5"
  }
 },
 "nbformat": 4,
 "nbformat_minor": 2
}
